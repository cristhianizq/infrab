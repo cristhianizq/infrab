{
 "cells": [
  {
   "cell_type": "markdown",
   "id": "466ade14",
   "metadata": {},
   "source": [
    "# PREDICCIÓN CHURN POR NODO"
   ]
  },
  {
   "cell_type": "markdown",
   "id": "746d5d89",
   "metadata": {},
   "source": [
    "## CONTENIDO\n",
    "\n",
    "* Carga de librerías\n",
    " * Configuraciones ambiente de trabajo\n",
    "* Carga y comparación de archivos\n",
    "* Maestro de Equipos\n",
    "* Calcular número de equipos con información\n",
    " * Seleccionar solo equipos con información\n",
    "* Cruce con caracteristicas de Equipos\n",
    "* Parámetros para predicción\n",
    "* Funciones para simplificación de series\n",
    "* Análisis de Horas"
   ]
  },
  {
   "cell_type": "markdown",
   "id": "10d7b207",
   "metadata": {},
   "source": [
    "## Carga de librerías"
   ]
  },
  {
   "cell_type": "code",
   "execution_count": 121,
   "id": "ce6742bd",
   "metadata": {},
   "outputs": [],
   "source": [
    "import pandas as pd\n",
    "import numpy as np\n",
    "from pmdarima.arima import auto_arima\n",
    "from dateutil.relativedelta import relativedelta\n",
    "import matplotlib.pyplot as plt\n",
    "from sklearn.metrics import mean_absolute_percentage_error,  mean_squared_error\n",
    "from statsmodels.tsa.holtwinters import SimpleExpSmoothing, Holt,ExponentialSmoothing\n",
    "import statsmodels.api as sm\n",
    "import seaborn as sns\n",
    "from statsmodels.tsa.exponential_smoothing.ets import ETSModel\n",
    "from datetime import datetime"
   ]
  },
  {
   "cell_type": "markdown",
   "id": "2bcdfbb1",
   "metadata": {},
   "source": [
    "### Configuraciones ambiente de trabajo"
   ]
  },
  {
   "cell_type": "code",
   "execution_count": 109,
   "id": "65865f8d",
   "metadata": {
    "scrolled": true
   },
   "outputs": [
    {
     "data": {
      "text/html": [
       "<style>.container { width:100% !important; }</style>"
      ],
      "text/plain": [
       "<IPython.core.display.HTML object>"
      ]
     },
     "metadata": {},
     "output_type": "display_data"
    }
   ],
   "source": [
    "import warnings\n",
    "warnings.filterwarnings('ignore')\n",
    "pd.set_option(\"display.max_columns\", None)\n",
    "pd.set_option('display.max_rows', None)\n",
    "pd.set_option('display.float_format', lambda x: '%.3f' % x)\n",
    "np.set_printoptions(suppress=True)\n",
    "from IPython.core.display import display, HTML\n",
    "display(HTML(\"<style>.container { width:100% !important; }</style>\"))"
   ]
  },
  {
   "cell_type": "markdown",
   "id": "a68ff7cc",
   "metadata": {},
   "source": [
    "## Carga y comparación de archivos"
   ]
  },
  {
   "cell_type": "code",
   "execution_count": 110,
   "id": "64caef79",
   "metadata": {},
   "outputs": [],
   "source": [
    "df2= pd.read_csv(f'../1.Datos/VW_TRAF_KPIS_DIA_202112141455.csv',sep='|', parse_dates=['FEC_MEDICION'])\n",
    "#df3_hora= pd.read_csv(f'../1.Datos/VW_TRAF_KPIS_HORA_202110280955.csv',sep='|')\n",
    "df4_dims= pd.read_csv(f'../1.Datos/TBL_DIM_EQUIPO_T1_202110280930.csv',sep='|')"
   ]
  },
  {
   "cell_type": "code",
   "execution_count": 115,
   "id": "45007c3e",
   "metadata": {},
   "outputs": [
    {
     "name": "stdout",
     "output_type": "stream",
     "text": [
      "798351\n",
      "2688941\n",
      "7409\n"
     ]
    }
   ],
   "source": [
    "#numero filas\n",
    "print(len(df2))\n",
    "print(len(df3_hora))\n",
    "print(len(df4_dims))"
   ]
  },
  {
   "cell_type": "code",
   "execution_count": 116,
   "id": "6262612a",
   "metadata": {},
   "outputs": [
    {
     "name": "stdout",
     "output_type": "stream",
     "text": [
      "43\n",
      "32\n",
      "15\n"
     ]
    }
   ],
   "source": [
    "#número columnas\n",
    "print(len(df2.columns))\n",
    "print(len(df3_hora.columns))\n",
    "print(len(df4_dims.columns))"
   ]
  },
  {
   "cell_type": "code",
   "execution_count": 117,
   "id": "6b210842",
   "metadata": {},
   "outputs": [
    {
     "name": "stdout",
     "output_type": "stream",
     "text": [
      "['SK_HORA_TRAFICO', 'DES_DEPARTEMENTO']\n",
      "['DES_DEPARTAMENTO', 'VAL_DIPONIBILIDAD_MAX', 'VAL_DIPONIBILIDAD_PROM', 'VAL_NUMERO_EVENTO_RSRP_EXCELLENT', 'VAL_NUMERO_EVENTO_RSRP_GOOD', 'VAL_NUMERO_EVENTO_RSRP_MID_CELL', 'VAL_NUMERO_EVENTO_RSRP_CELL_EDGE', 'VAL_NUMERO_EVENTO_SNR_EXCELLENT', 'VAL_NUMERO_EVENTO_SNR_GOOD', 'VAL_NUMERO_EVENTO_SNR_MID_CELL', 'VAL_NUMERO_EVENTO_SNR_CELL_EDGE', 'VAL_NUMERO_EVENTO_LTE_3G', 'VAL_NUMERO_EVENTO_LTE_4G']\n"
     ]
    }
   ],
   "source": [
    "col_df3=df3_hora.columns.values\n",
    "col_df2=df2.columns.values\n",
    "list_difference = [item for item in col_df3 if item not in col_df2]\n",
    "print(list_difference)\n",
    "list_difference = [item for item in col_df2 if item not in col_df3]\n",
    "print(list_difference)"
   ]
  },
  {
   "cell_type": "code",
   "execution_count": 118,
   "id": "d83aa499",
   "metadata": {},
   "outputs": [
    {
     "data": {
      "text/plain": [
       " R829_DINA-DT-POZ-164_LTE_01                   2\n",
       "PTP_KZ-OPR_EDF-LOAD-MASTE                      2\n",
       "AP1602_REFICAR-CTG-EDF-ADM-GETSEMANI-P02_01    2\n",
       "G3945_REF-CAR_ToIP_02                          1\n",
       "Name: COD_EQUIPO, dtype: int64"
      ]
     },
     "execution_count": 118,
     "metadata": {},
     "output_type": "execute_result"
    }
   ],
   "source": [
    "df4_dims['COD_EQUIPO'].value_counts()[0:4]"
   ]
  },
  {
   "cell_type": "code",
   "execution_count": 119,
   "id": "92e45a18",
   "metadata": {},
   "outputs": [],
   "source": [
    "df4_dims=df4_dims.drop_duplicates(subset=['COD_EQUIPO'],keep='first')"
   ]
  },
  {
   "cell_type": "code",
   "execution_count": 124,
   "id": "597ddef5",
   "metadata": {},
   "outputs": [],
   "source": [
    "# Base datos correctos\n",
    "tabla_base=df2[(df2['FEC_MEDICION']>='2021-11-16 00:00:00')&(df2['FEC_MEDICION']<'2021-12-14 00:00:00')]\n",
    "#tabla_base=df2[(df2['FEC_MEDICION']>='2021-11-16 00:00:00')&(df2['FEC_MEDICION']<datetime.today())]"
   ]
  },
  {
   "cell_type": "code",
   "execution_count": 125,
   "id": "92a7f7e0",
   "metadata": {},
   "outputs": [
    {
     "name": "stdout",
     "output_type": "stream",
     "text": [
      "min  2020-12-13 00:00:00 max 2022-01-04 00:00:00\n"
     ]
    }
   ],
   "source": [
    "print('min ', df2['FEC_MEDICION'].min(), 'max',df2['FEC_MEDICION'].max())"
   ]
  },
  {
   "cell_type": "code",
   "execution_count": 198,
   "id": "232ed922",
   "metadata": {},
   "outputs": [],
   "source": [
    "n_dias=(tabla_base['FEC_MEDICION'].max()-tabla_base['FEC_MEDICION'].min()).days"
   ]
  },
  {
   "cell_type": "code",
   "execution_count": 128,
   "id": "5a88d98a",
   "metadata": {},
   "outputs": [],
   "source": [
    "col_fallas=['VAL_EVENTOS_FALLA_ENERGIA_COMERCIAL','VAL_EVENTOS_FALLA_MODULO_RECTIFICADOR','VAL_EVENTOS_PLANTA_ELECTRICA_ENCENDIDA','VAL_EVENTOS_ALTA_PRESION', 'VAL_EVENTOS_BAJA_PRESION','VAL_EVENTOS_FALLA_COMPRESOR']\n",
    "col_caracteristicas=['COD_EQUIPO','DES_AMBITO', 'DES_SUBAMBITO','DES_MUNICIPIO', 'DES_DEPARTAMENTO','DES_MARCA','DES_MODELO','DES_TIPO']\n",
    "col_id=['FEC_MEDICION']"
   ]
  },
  {
   "cell_type": "code",
   "execution_count": 130,
   "id": "4c9a481c",
   "metadata": {},
   "outputs": [],
   "source": [
    "tabla_base=tabla_base.merge(df4_dims[['COD_EQUIPO','DES_MARCA','DES_MODELO','DES_TIPO']],left_on='COD_EQUIPO', right_on='COD_EQUIPO', how='left')"
   ]
  },
  {
   "cell_type": "code",
   "execution_count": 131,
   "id": "eb820fb5",
   "metadata": {
    "scrolled": true
   },
   "outputs": [
    {
     "data": {
      "text/plain": [
       "DES_AMBITO                                LTELTELTELTELTELTELTELTELTELTELTELTELTELTELTEL...\n",
       "DES_SUBAMBITO                             CONECTIVIDADCONECTIVIDADCONECTIVIDADCONECTIVID...\n",
       "COD_EQUIPO                                R7705_PZ-SF-1_LTE_01R7705_PZ-SF-14_LTE_01R7705...\n",
       "IP_EQUIPO                                 10.82.190.4010.82.190.4210.82.190.6510.82.190....\n",
       "DES_MUNICIPIO                             AipeAipeAipeAipeAipeAipeAipeAipeAipeAipeAipeAi...\n",
       "DES_DEPARTAMENTO                          HuilaHuilaHuilaHuilaHuilaHuilaHuilaHuilaHuilaH...\n",
       "VAL_DIPONIBILIDAD_MAX                                                          56262709.595\n",
       "VAL_DIPONIBILIDAD_PROM                                                          8476232.600\n",
       "VAL_LATENCIA_MAX                                                              978015235.961\n",
       "VAL_LATENCIA_PROM                                                             146818770.694\n",
       "VAL_JITTER_MAX                                                                589132629.191\n",
       "VAL_JITTER_PROM                                                                21709062.514\n",
       "VAL_PLOS_MAX                                                                   35968627.817\n",
       "VAL_PLOS_PROM                                                                   2326015.012\n",
       "VAL_CPU_MAX                                                                     3405381.195\n",
       "VAL_CPU_PROM                                                                    2165868.323\n",
       "VAL_MEM_MAX                                                             221401780429075.250\n",
       "VAL_MEM_PROM                                                            107602392320470.000\n",
       "VAL_TEMP_MAX                                                                   44012027.860\n",
       "VAL_TEMP_PROM                                                                  37110032.870\n",
       "VAL_LATENCIA_MAX_SONDAS                                                          576929.335\n",
       "VAL_LATENCIA_PROM_SONDAS                                                          19796.152\n",
       "VAL_JITTER_MAX_SONDAS                                                                378529\n",
       "VAL_JITTER_PROM_SONDAS                                                             3082.092\n",
       "VAL_PLOS_MAX_SONDAS                                                           372489683.326\n",
       "VAL_PLOS_PROM_SONDAS                                                             794634.946\n",
       "VAL_EVENTOS_FALLA_ENERGIA_COMERCIAL                                                     455\n",
       "VAL_EVENTOS_FALLA_MODULO_RECTIFICADOR                                                     0\n",
       "VAL_EVENTOS_PLANTA_ELECTRICA_ENCENDIDA                                                    0\n",
       "VAL_EVENTOS_ALTA_PRESION                                                                  0\n",
       "VAL_EVENTOS_BAJA_PRESION                                                                  7\n",
       "VAL_EVENTOS_FALLA_COMPRESOR                                                               0\n",
       "VAL_NUMERO_EVENTO_RSRP_EXCELLENT                                                        883\n",
       "VAL_NUMERO_EVENTO_RSRP_GOOD                                                               5\n",
       "VAL_NUMERO_EVENTO_RSRP_MID_CELL                                                           7\n",
       "VAL_NUMERO_EVENTO_RSRP_CELL_EDGE                                                          1\n",
       "VAL_NUMERO_EVENTO_SNR_EXCELLENT                                                       16685\n",
       "VAL_NUMERO_EVENTO_SNR_GOOD                                                                0\n",
       "VAL_NUMERO_EVENTO_SNR_MID_CELL                                                            4\n",
       "VAL_NUMERO_EVENTO_SNR_CELL_EDGE                                                           0\n",
       "VAL_NUMERO_EVENTO_LTE_3G                                                                  0\n",
       "VAL_NUMERO_EVENTO_LTE_4G                                                                255\n",
       "dtype: object"
      ]
     },
     "execution_count": 131,
     "metadata": {},
     "output_type": "execute_result"
    }
   ],
   "source": [
    "tabla_base.sum()"
   ]
  },
  {
   "cell_type": "code",
   "execution_count": 132,
   "id": "b1be972e",
   "metadata": {},
   "outputs": [
    {
     "data": {
      "text/plain": [
       "Index(['FEC_MEDICION', 'DES_AMBITO', 'DES_SUBAMBITO', 'COD_EQUIPO',\n",
       "       'IP_EQUIPO', 'DES_MUNICIPIO', 'DES_DEPARTAMENTO',\n",
       "       'VAL_DIPONIBILIDAD_MAX', 'VAL_DIPONIBILIDAD_PROM', 'VAL_LATENCIA_MAX',\n",
       "       'VAL_LATENCIA_PROM', 'VAL_JITTER_MAX', 'VAL_JITTER_PROM',\n",
       "       'VAL_PLOS_MAX', 'VAL_PLOS_PROM', 'VAL_CPU_MAX', 'VAL_CPU_PROM',\n",
       "       'VAL_MEM_MAX', 'VAL_MEM_PROM', 'VAL_TEMP_MAX', 'VAL_TEMP_PROM',\n",
       "       'VAL_LATENCIA_MAX_SONDAS', 'VAL_LATENCIA_PROM_SONDAS',\n",
       "       'VAL_JITTER_MAX_SONDAS', 'VAL_JITTER_PROM_SONDAS',\n",
       "       'VAL_PLOS_MAX_SONDAS', 'VAL_PLOS_PROM_SONDAS',\n",
       "       'VAL_EVENTOS_FALLA_ENERGIA_COMERCIAL',\n",
       "       'VAL_EVENTOS_FALLA_MODULO_RECTIFICADOR',\n",
       "       'VAL_EVENTOS_PLANTA_ELECTRICA_ENCENDIDA', 'VAL_EVENTOS_ALTA_PRESION',\n",
       "       'VAL_EVENTOS_BAJA_PRESION', 'VAL_EVENTOS_FALLA_COMPRESOR',\n",
       "       'VAL_NUMERO_EVENTO_RSRP_EXCELLENT', 'VAL_NUMERO_EVENTO_RSRP_GOOD',\n",
       "       'VAL_NUMERO_EVENTO_RSRP_MID_CELL', 'VAL_NUMERO_EVENTO_RSRP_CELL_EDGE',\n",
       "       'VAL_NUMERO_EVENTO_SNR_EXCELLENT', 'VAL_NUMERO_EVENTO_SNR_GOOD',\n",
       "       'VAL_NUMERO_EVENTO_SNR_MID_CELL', 'VAL_NUMERO_EVENTO_SNR_CELL_EDGE',\n",
       "       'VAL_NUMERO_EVENTO_LTE_3G', 'VAL_NUMERO_EVENTO_LTE_4G', 'DES_MARCA',\n",
       "       'DES_MODELO', 'DES_TIPO'],\n",
       "      dtype='object')"
      ]
     },
     "execution_count": 132,
     "metadata": {},
     "output_type": "execute_result"
    }
   ],
   "source": [
    "tabla_base.columns"
   ]
  },
  {
   "cell_type": "code",
   "execution_count": 134,
   "id": "731e82bd",
   "metadata": {
    "scrolled": true
   },
   "outputs": [],
   "source": [
    "df=tabla_base[col_caracteristicas+col_fallas+col_id]"
   ]
  },
  {
   "cell_type": "markdown",
   "id": "fd61dde6",
   "metadata": {},
   "source": [
    "## Maestro de Equipos"
   ]
  },
  {
   "cell_type": "code",
   "execution_count": 135,
   "id": "534f4ac7",
   "metadata": {},
   "outputs": [],
   "source": [
    "maestroEquipo=df[col_caracteristicas].drop_duplicates(keep='last')"
   ]
  },
  {
   "cell_type": "code",
   "execution_count": 136,
   "id": "463ef699",
   "metadata": {},
   "outputs": [
    {
     "data": {
      "text/plain": [
       "3717"
      ]
     },
     "execution_count": 136,
     "metadata": {},
     "output_type": "execute_result"
    }
   ],
   "source": [
    "len(maestroEquipo)"
   ]
  },
  {
   "cell_type": "markdown",
   "id": "ab14e7d8",
   "metadata": {},
   "source": [
    "## Calcular número de equipos con información"
   ]
  },
  {
   "cell_type": "code",
   "execution_count": 138,
   "id": "6f937f9a",
   "metadata": {},
   "outputs": [
    {
     "data": {
      "text/plain": [
       "3717"
      ]
     },
     "execution_count": 138,
     "metadata": {},
     "output_type": "execute_result"
    }
   ],
   "source": [
    "#numero equipos\n",
    "df['COD_EQUIPO'].nunique()"
   ]
  },
  {
   "cell_type": "code",
   "execution_count": 139,
   "id": "07957084",
   "metadata": {},
   "outputs": [],
   "source": [
    "df_un= df[['FEC_MEDICION','COD_EQUIPO']+col_fallas].melt(id_vars=['FEC_MEDICION','COD_EQUIPO'], var_name='EVENTO', value_name='VAL')"
   ]
  },
  {
   "cell_type": "code",
   "execution_count": 140,
   "id": "cd127b60",
   "metadata": {
    "scrolled": true
   },
   "outputs": [
    {
     "data": {
      "text/plain": [
       "546186"
      ]
     },
     "execution_count": 140,
     "metadata": {},
     "output_type": "execute_result"
    }
   ],
   "source": [
    "len(df_un)"
   ]
  },
  {
   "cell_type": "code",
   "execution_count": 141,
   "id": "9e256ffb",
   "metadata": {},
   "outputs": [
    {
     "data": {
      "text/plain": [
       "95"
      ]
     },
     "execution_count": 141,
     "metadata": {},
     "output_type": "execute_result"
    }
   ],
   "source": [
    "df_un[df_un['VAL']>0]['COD_EQUIPO'].nunique()"
   ]
  },
  {
   "cell_type": "code",
   "execution_count": 142,
   "id": "d99501a1",
   "metadata": {},
   "outputs": [],
   "source": [
    "#número combinaciones  equipo evento\n",
    "com_eq_event=df_un.groupby(['COD_EQUIPO', 'EVENTO']).sum()"
   ]
  },
  {
   "cell_type": "code",
   "execution_count": 143,
   "id": "4ce97ec1",
   "metadata": {},
   "outputs": [
    {
     "data": {
      "text/plain": [
       "22302"
      ]
     },
     "execution_count": 143,
     "metadata": {},
     "output_type": "execute_result"
    }
   ],
   "source": [
    "len(com_eq_event)"
   ]
  },
  {
   "cell_type": "code",
   "execution_count": 144,
   "id": "0f4351bd",
   "metadata": {},
   "outputs": [
    {
     "data": {
      "text/plain": [
       "22207"
      ]
     },
     "execution_count": 144,
     "metadata": {},
     "output_type": "execute_result"
    }
   ],
   "source": [
    "com_eq_event[com_eq_event['VAL']==0]['VAL'].count()"
   ]
  },
  {
   "cell_type": "code",
   "execution_count": 145,
   "id": "44e4082d",
   "metadata": {},
   "outputs": [
    {
     "name": "stdout",
     "output_type": "stream",
     "text": [
      "El 99.57 % de las serires equipo-evento estan en cero todos los dias\n"
     ]
    }
   ],
   "source": [
    "print(\"El\",round(100*com_eq_event[com_eq_event['VAL']==0]['VAL'].count()/len(com_eq_event),2),\"% de las serires equipo-evento estan en cero todos los dias\")"
   ]
  },
  {
   "cell_type": "code",
   "execution_count": 146,
   "id": "b2a0ebfd",
   "metadata": {},
   "outputs": [
    {
     "name": "stdout",
     "output_type": "stream",
     "text": [
      "El  99.96 % de los datos están en cero\n"
     ]
    }
   ],
   "source": [
    "print(\"El \",round(100*len(df_un[df_un['VAL']==0])/len(df_un),2),\"% de los datos están en cero\")"
   ]
  },
  {
   "cell_type": "markdown",
   "id": "6e9b3d1c",
   "metadata": {},
   "source": [
    "## Ver series por evento"
   ]
  },
  {
   "cell_type": "code",
   "execution_count": 147,
   "id": "cbce3687",
   "metadata": {},
   "outputs": [
    {
     "data": {
      "text/plain": [
       "Timestamp('2021-11-16 00:00:00')"
      ]
     },
     "execution_count": 147,
     "metadata": {},
     "output_type": "execute_result"
    }
   ],
   "source": [
    "df['FEC_MEDICION'].min()"
   ]
  },
  {
   "cell_type": "code",
   "execution_count": 148,
   "id": "b9fff325",
   "metadata": {},
   "outputs": [],
   "source": [
    "res_df=df[['FEC_MEDICION']+col_fallas].groupby('FEC_MEDICION').sum()\n",
    "res_df.reset_index(inplace=True)\n",
    "res_df['FEC_MEDICION']=pd.to_datetime(res_df['FEC_MEDICION'])\n",
    "res_df['FECHA']=res_df['FEC_MEDICION'].dt.strftime(\"%y/%m/%d\")"
   ]
  },
  {
   "cell_type": "code",
   "execution_count": 149,
   "id": "6779c602",
   "metadata": {},
   "outputs": [
    {
     "data": {
      "image/png": "[encoded data removed]",
      "text/plain": [
       "<Figure size 1440x576 with 6 Axes>"
      ]
     },
     "metadata": {
      "needs_background": "light"
     },
     "output_type": "display_data"
    }
   ],
   "source": [
    "#fig, axes = plt.subplots(2,3)\n",
    "#i=0\n",
    "#for evento in col_fallas:\n",
    "#    res_df.plot(kind='bar',figsize=(20,8), x='FECHA', y=evento, ax=axes[i//3,i%3])\n",
    "#    i=i+1\n",
    "#fig.tight_layout()"
   ]
  },
  {
   "cell_type": "markdown",
   "id": "7f93b58e",
   "metadata": {},
   "source": [
    "### Seleccionar solo equipos con información"
   ]
  },
  {
   "cell_type": "code",
   "execution_count": 150,
   "id": "f21b2e56",
   "metadata": {},
   "outputs": [],
   "source": [
    "#solo series equipos con info\n",
    "serie_equ_info=com_eq_event[com_eq_event['VAL']>0]"
   ]
  },
  {
   "cell_type": "code",
   "execution_count": 151,
   "id": "cfc14713",
   "metadata": {},
   "outputs": [
    {
     "data": {
      "text/plain": [
       "95"
      ]
     },
     "execution_count": 151,
     "metadata": {},
     "output_type": "execute_result"
    }
   ],
   "source": [
    "len(serie_equ_info)"
   ]
  },
  {
   "cell_type": "code",
   "execution_count": 152,
   "id": "9481d827",
   "metadata": {},
   "outputs": [
    {
     "data": {
      "text/html": [
       "<div>\n",
       "<style scoped>\n",
       "    .dataframe tbody tr th:only-of-type {\n",
       "        vertical-align: middle;\n",
       "    }\n",
       "\n",
       "    .dataframe tbody tr th {\n",
       "        vertical-align: top;\n",
       "    }\n",
       "\n",
       "    .dataframe thead th {\n",
       "        text-align: right;\n",
       "    }\n",
       "</style>\n",
       "<table border=\"1\" class=\"dataframe\">\n",
       "  <thead>\n",
       "    <tr style=\"text-align: right;\">\n",
       "      <th></th>\n",
       "      <th>COD_EQUIPO</th>\n",
       "      <th>EVENTO</th>\n",
       "      <th>VAL</th>\n",
       "    </tr>\n",
       "  </thead>\n",
       "  <tbody>\n",
       "    <tr>\n",
       "      <th>0</th>\n",
       "      <td>AA_ICP-CC-SOTANO_01</td>\n",
       "      <td>VAL_EVENTOS_BAJA_PRESION</td>\n",
       "      <td>7</td>\n",
       "    </tr>\n",
       "    <tr>\n",
       "      <th>1</th>\n",
       "      <td>RTF_C-ORITO_01</td>\n",
       "      <td>VAL_EVENTOS_FALLA_ENERGIA_COMERCIAL</td>\n",
       "      <td>9</td>\n",
       "    </tr>\n",
       "    <tr>\n",
       "      <th>2</th>\n",
       "      <td>RTF_CASTLL-OFC-COM_01</td>\n",
       "      <td>VAL_EVENTOS_FALLA_ENERGIA_COMERCIAL</td>\n",
       "      <td>1</td>\n",
       "    </tr>\n",
       "    <tr>\n",
       "      <th>3</th>\n",
       "      <td>RTF_CCMT_01</td>\n",
       "      <td>VAL_EVENTOS_FALLA_ENERGIA_COMERCIAL</td>\n",
       "      <td>2</td>\n",
       "    </tr>\n",
       "    <tr>\n",
       "      <th>4</th>\n",
       "      <td>RTF_CGO-COM_01</td>\n",
       "      <td>VAL_EVENTOS_FALLA_ENERGIA_COMERCIAL</td>\n",
       "      <td>6</td>\n",
       "    </tr>\n",
       "  </tbody>\n",
       "</table>\n",
       "</div>"
      ],
      "text/plain": [
       "              COD_EQUIPO                               EVENTO  VAL\n",
       "0    AA_ICP-CC-SOTANO_01             VAL_EVENTOS_BAJA_PRESION    7\n",
       "1         RTF_C-ORITO_01  VAL_EVENTOS_FALLA_ENERGIA_COMERCIAL    9\n",
       "2  RTF_CASTLL-OFC-COM_01  VAL_EVENTOS_FALLA_ENERGIA_COMERCIAL    1\n",
       "3            RTF_CCMT_01  VAL_EVENTOS_FALLA_ENERGIA_COMERCIAL    2\n",
       "4         RTF_CGO-COM_01  VAL_EVENTOS_FALLA_ENERGIA_COMERCIAL    6"
      ]
     },
     "execution_count": 152,
     "metadata": {},
     "output_type": "execute_result"
    }
   ],
   "source": [
    "serie_equ_info.reset_index(inplace=True)"
   ]
  },
  {
   "cell_type": "code",
   "execution_count": 153,
   "id": "af29791a",
   "metadata": {},
   "outputs": [],
   "source": [
    "df_un=df_un.merge(serie_equ_info, left_on=['COD_EQUIPO','EVENTO'], right_on=['COD_EQUIPO','EVENTO'], how='left')"
   ]
  },
  {
   "cell_type": "code",
   "execution_count": 154,
   "id": "d84b9c88",
   "metadata": {},
   "outputs": [],
   "source": [
    "df_un_filt=df_un[df_un['VAL_y'].notnull()]"
   ]
  },
  {
   "cell_type": "code",
   "execution_count": 155,
   "id": "1fd6a089",
   "metadata": {},
   "outputs": [
    {
     "data": {
      "text/plain": [
       "2523"
      ]
     },
     "execution_count": 155,
     "metadata": {},
     "output_type": "execute_result"
    }
   ],
   "source": [
    "len(df_un_filt)"
   ]
  },
  {
   "cell_type": "code",
   "execution_count": 156,
   "id": "10e280a7",
   "metadata": {},
   "outputs": [],
   "source": [
    "df_un_filt.drop(columns=['VAL_y'], inplace=True)"
   ]
  },
  {
   "cell_type": "code",
   "execution_count": 157,
   "id": "f9056e09",
   "metadata": {},
   "outputs": [],
   "source": [
    "df_un_filt.rename(columns={'VAL_x':'VAL'},inplace=True)"
   ]
  },
  {
   "cell_type": "code",
   "execution_count": 158,
   "id": "9e91b09b",
   "metadata": {},
   "outputs": [
    {
     "data": {
      "text/plain": [
       "2523"
      ]
     },
     "execution_count": 158,
     "metadata": {},
     "output_type": "execute_result"
    }
   ],
   "source": [
    "len(df_un_filt)"
   ]
  },
  {
   "cell_type": "markdown",
   "id": "ccfc516a",
   "metadata": {},
   "source": [
    "## Cruce con caracteristicas de Equipos"
   ]
  },
  {
   "cell_type": "code",
   "execution_count": 159,
   "id": "5e0f9e87",
   "metadata": {},
   "outputs": [],
   "source": [
    "df_un_filt=df_un_filt.merge(maestroEquipo,left_on='COD_EQUIPO', right_on='COD_EQUIPO', how='left')"
   ]
  },
  {
   "cell_type": "code",
   "execution_count": 160,
   "id": "516b6a29",
   "metadata": {},
   "outputs": [
    {
     "data": {
      "text/plain": [
       "2523"
      ]
     },
     "execution_count": 160,
     "metadata": {},
     "output_type": "execute_result"
    }
   ],
   "source": [
    "len(df_un_filt)"
   ]
  },
  {
   "cell_type": "markdown",
   "id": "2667fb98",
   "metadata": {},
   "source": [
    "##  Parámetros para predicción"
   ]
  },
  {
   "cell_type": "code",
   "execution_count": 161,
   "id": "41440802",
   "metadata": {},
   "outputs": [],
   "source": [
    "# colocar la fecha como index\n",
    "df_un_filt.set_index('FEC_MEDICION',inplace=True)"
   ]
  },
  {
   "cell_type": "code",
   "execution_count": 162,
   "id": "475451fa",
   "metadata": {},
   "outputs": [],
   "source": [
    "df_un_filt.index=pd.to_datetime(df_un_filt.index)"
   ]
  },
  {
   "cell_type": "code",
   "execution_count": 163,
   "id": "72dcfb3c-995b-41c2-adcc-e4b1eb743257",
   "metadata": {},
   "outputs": [
    {
     "data": {
      "text/plain": [
       "Timestamp('2021-11-16 00:00:00')"
      ]
     },
     "execution_count": 163,
     "metadata": {},
     "output_type": "execute_result"
    }
   ],
   "source": [
    "#minFecha=df[df['totalEventos']>0].index.min()\n",
    "minFecha=df_un_filt.index.min()\n",
    "minFecha"
   ]
  },
  {
   "cell_type": "code",
   "execution_count": 164,
   "id": "5a29c746",
   "metadata": {},
   "outputs": [
    {
     "data": {
      "text/plain": [
       "Timestamp('2021-12-13 00:00:00')"
      ]
     },
     "execution_count": 164,
     "metadata": {},
     "output_type": "execute_result"
    }
   ],
   "source": [
    "maxFecha=df_un_filt.index.max()\n",
    "maxFecha"
   ]
  },
  {
   "cell_type": "code",
   "execution_count": 165,
   "id": "f4be1be4",
   "metadata": {},
   "outputs": [
    {
     "data": {
      "text/plain": [
       "DatetimeIndex(['2021-11-17', '2021-11-18', '2021-11-19', '2021-11-20',\n",
       "               '2021-11-21', '2021-11-22', '2021-11-23', '2021-11-24',\n",
       "               '2021-11-25', '2021-11-26', '2021-11-27', '2021-11-28',\n",
       "               '2021-11-29', '2021-11-30', '2021-12-01', '2021-12-02',\n",
       "               '2021-12-03', '2021-12-04', '2021-12-05', '2021-12-06',\n",
       "               '2021-12-07', '2021-12-08', '2021-12-09', '2021-12-10',\n",
       "               '2021-12-11', '2021-12-12', '2021-12-13'],\n",
       "              dtype='datetime64[ns]', name='FECHA', freq='D')"
      ]
     },
     "execution_count": 165,
     "metadata": {},
     "output_type": "execute_result"
    }
   ],
   "source": [
    "ind = pd.date_range(start=minFecha, end=maxFecha, freq ='D', name='FECHA')[1:]\n",
    "ind"
   ]
  },
  {
   "cell_type": "code",
   "execution_count": 166,
   "id": "095c5eb9",
   "metadata": {},
   "outputs": [
    {
     "data": {
      "text/plain": [
       "DatetimeIndex(['2021-12-14', '2021-12-15', '2021-12-16', '2021-12-17',\n",
       "               '2021-12-18', '2021-12-19', '2021-12-20', '2021-12-21'],\n",
       "              dtype='datetime64[ns]', name='FECHA', freq='D')"
      ]
     },
     "execution_count": 166,
     "metadata": {},
     "output_type": "execute_result"
    }
   ],
   "source": [
    "ind_P= pd.date_range(maxFecha, periods = 9, freq ='D', name='FECHA')[1:]\n",
    "ind_P"
   ]
  },
  {
   "cell_type": "code",
   "execution_count": 167,
   "id": "14306033",
   "metadata": {},
   "outputs": [],
   "source": [
    "diasHorizonte=8\n",
    "fechaTrain=df_un_filt.index.unique()[-1*diasHorizonte-1]\n",
    "fechaTest=df_un_filt.index.unique()[-1*diasHorizonte]"
   ]
  },
  {
   "cell_type": "code",
   "execution_count": 168,
   "id": "1c58b6ec",
   "metadata": {},
   "outputs": [],
   "source": [
    "for col in col_caracteristicas:\n",
    "    df_un_filt[col]=df_un_filt[col].astype(str)"
   ]
  },
  {
   "cell_type": "markdown",
   "id": "bc1c521c",
   "metadata": {},
   "source": [
    "### Funciones para simplificación de series"
   ]
  },
  {
   "cell_type": "code",
   "execution_count": 169,
   "id": "12677b01",
   "metadata": {},
   "outputs": [],
   "source": [
    "def prediccion(col_grupo):\n",
    "    df_un_filt['grupo']=df_un_filt[col_grupo].agg('|'.join, axis=1)\n",
    "    listEventos=df_un_filt['grupo'].unique()\n",
    "    dfTotales=df_un_filt.groupby(['FEC_MEDICION','grupo']).sum()\n",
    "    dfTotales.reset_index(inplace=True)\n",
    "    dfTotales.set_index('FEC_MEDICION',inplace=True)\n",
    "    dfTotalesCom=pd.DataFrame()\n",
    "    #completar series\n",
    "    i=0\n",
    "    for grupo in listEventos:\n",
    "        aux=dfTotales[dfTotales['grupo']==grupo]\n",
    "        aux=aux.reindex(ind, fill_value=0)\n",
    "        aux['grupo']=grupo\n",
    "        if i==0:\n",
    "            dfTotalesCom=aux\n",
    "        else:\n",
    "            dfTotalesCom=dfTotalesCom.append(aux) \n",
    "        i=i+1\n",
    "    TablaTrain=dfTotalesCom[dfTotalesCom.index <= fechaTrain]\n",
    "    TablaTest=dfTotalesCom[dfTotalesCom.index >= fechaTest]\n",
    "    ind_test = pd.date_range(TablaTrain.index.max(), periods = diasHorizonte+1, freq ='D', name='FECHA')[1:]\n",
    "    final = pd.DataFrame()\n",
    "    finalErrores = {}\n",
    "    grouped =TablaTrain[['grupo','VAL']].groupby('grupo')\n",
    "    groupedTest =TablaTest[['grupo','VAL']].groupby('grupo')\n",
    "    metodos=['ARIMA','ES','HOLT','ES_ajTend','ETS']\n",
    "    #evaluacion Metodo\n",
    "    i=0\n",
    "    for g in grouped.groups:\n",
    "        #print(g)           \n",
    "        dicNodo={} \n",
    "        dicAuxMetodo={}\n",
    "        group = grouped.get_group(g) \n",
    "        groupTest = groupedTest.get_group(g) \n",
    "        for metodo in metodos:\n",
    "            if metodo== 'ARIMA':\n",
    "                model=auto_arima(group['VAL'],trace=False)\n",
    "                model.fit(group['VAL'])  \n",
    "                forecast=pd.DataFrame(model.predict(n_periods = diasHorizonte),index=ind_test)\n",
    "            elif metodo== 'ES':\n",
    "                model = SimpleExpSmoothing(group['VAL'])\n",
    "                model=model.fit(smoothing_level=.05)\n",
    "                forecast=pd.DataFrame(model.forecast(diasHorizonte),index=ind_test)\n",
    "            elif metodo== 'HOLT':\n",
    "                model = Holt(group['VAL']) \n",
    "                model = model.fit(optimized=True)\n",
    "                forecast=pd.DataFrame(model.forecast(diasHorizonte),index=ind_test)\n",
    "            elif metodo== 'ES_ajTend':\n",
    "                model = ExponentialSmoothing(group['VAL'],trend='add', seasonal=None, damped=True)\n",
    "                model= model.fit()\n",
    "                forecast=pd.DataFrame(model.forecast(diasHorizonte),index=ind_test)        \n",
    "            elif metodo== 'ETS':            \n",
    "                model = ETSModel(group['VAL'].astype(float),seasonal_periods=15,error=\"add\",trend=\"add\",seasonal=\"add\", damped_trend=True,)\n",
    "                model = model.fit()\n",
    "                start=len(group['VAL'])\n",
    "                forecast = pd.DataFrame(model.get_prediction(start=start, end=start+diasHorizonte-1).summary_frame(alpha=0.05)['mean'],index=ind_test)\n",
    "            forecast.columns = ['pred']  \n",
    "            forecast['grupo']=g\n",
    "            forecast['Metodo']=metodo \n",
    "            if i==0:\n",
    "                final=forecast\n",
    "            else:\n",
    "                final=final.append(forecast)     \n",
    "            # Errores\n",
    "            ## Medicion varios errores, seleccionar el que mejor se ajuste\n",
    "            RMSE=mean_squared_error(groupTest['VAL'],forecast['pred'], squared=False)\n",
    "            MAPE=mean_absolute_percentage_error(groupTest['VAL'],forecast['pred'])    \n",
    "            dicNodo[metodo]=RMSE  \n",
    "            i=i+1\n",
    "        finalErrores[g]=dicNodo\n",
    "    #fin evaluación y seleccion metodo por serie\n",
    "    dfFinalErrores=pd.DataFrame.from_dict(finalErrores,orient='index')\n",
    "    minError=list(dfFinalErrores.min(axis=1).values)\n",
    "    modeloSeleccionado=[np.nan]*len(dfFinalErrores)\n",
    "    i=0\n",
    "    for indx,row in dfFinalErrores.iterrows():\n",
    "        auxRow=list(row.values)\n",
    "        auxInd=auxRow.index(minError[i])\n",
    "        modeloSeleccionado[i]=metodos[auxInd]        \n",
    "        i=i+1    \n",
    "    dfFinalErrores['seleccion']=modeloSeleccionado\n",
    "    dfFinalErrores['errorMin']=minError\n",
    "    finalPrediccionesFuturas = pd.DataFrame()\n",
    "    groupedPred=dfTotalesCom[['grupo','VAL']].groupby('grupo')\n",
    "    ### Prediccines futuras\n",
    "    i=0\n",
    "    for g in groupedPred.groups:       \n",
    "        group = groupedPred.get_group(g)        \n",
    "        mejorMetodo=dfFinalErrores.loc[g,'seleccion']   \n",
    "        if mejorMetodo== 'ARIMA':\n",
    "            model=auto_arima(group['VAL'],trace=False)\n",
    "            model.fit(group['VAL'])  \n",
    "            forecast=pd.DataFrame(model.predict(n_periods = diasHorizonte),index=ind_P)\n",
    "        elif mejorMetodo== 'ES':\n",
    "            model = SimpleExpSmoothing(group['VAL'])\n",
    "            model=model.fit(smoothing_level=.5)\n",
    "            forecast=pd.DataFrame(model.forecast(diasHorizonte),index=ind_P)\n",
    "        elif mejorMetodo== 'HOLT':\n",
    "            model = Holt(group['VAL']) \n",
    "            model = model.fit(optimized=True)\n",
    "            forecast=pd.DataFrame(model.forecast(diasHorizonte),index=ind_P)\n",
    "        elif mejorMetodo== 'ES_ajTend':\n",
    "            model = ExponentialSmoothing(group['VAL'],trend='add', seasonal=None, damped=True)\n",
    "            model= model.fit()\n",
    "            forecast=pd.DataFrame(model.forecast(diasHorizonte),index=ind_P)\n",
    "        elif mejorMetodo== 'ETS':\n",
    "            model = ETSModel(group['VAL'].astype(float),seasonal_periods=15,error=\"add\",trend=\"add\",seasonal=\"add\", damped_trend=True,)\n",
    "            model= model.fit()\n",
    "            start=len(group['VAL'])\n",
    "            forecast = pd.DataFrame(model.get_prediction(start=start, end=start+diasHorizonte-1).summary_frame(alpha=0.05)['mean'],index=ind_P)       \n",
    "\n",
    "        forecast.columns = ['pred'] \n",
    "        forecast['grupo']=g\n",
    "        forecast['Metodo']=mejorMetodo\n",
    "\n",
    "        if i==0:\n",
    "            finalPrediccionesFuturas=forecast\n",
    "        else:\n",
    "            finalPrediccionesFuturas=finalPrediccionesFuturas.append(forecast) \n",
    "        i=i+1\n",
    "    #Reemplazar negativos por cero\n",
    "    finalPrediccionesFuturas['pred']=np.where(finalPrediccionesFuturas['pred']<0,0,finalPrediccionesFuturas['pred'])\n",
    "    return finalPrediccionesFuturas"
   ]
  },
  {
   "cell_type": "code",
   "execution_count": 200,
   "id": "26e03a2f",
   "metadata": {},
   "outputs": [],
   "source": [
    "## Calculo de los ciclos\n",
    "#n_dias\n",
    "if n_dias<30:\n",
    "    dias_ciclo=10\n",
    "else:\n",
    "    dias_ciclo=15\n",
    "\n",
    "def prediccionETS(col_grupo):\n",
    "    df_un_filt['grupo']=df_un_filt[col_grupo].agg('|'.join, axis=1)\n",
    "    listEventos=df_un_filt['grupo'].unique()\n",
    "    dfTotales=df_un_filt.groupby(['FEC_MEDICION','grupo']).sum()\n",
    "    dfTotales.reset_index(inplace=True)\n",
    "    dfTotales.set_index('FEC_MEDICION',inplace=True)\n",
    "    dfTotalesCom=pd.DataFrame()\n",
    "    #completar series\n",
    "    i=0\n",
    "    for grupo in listEventos:\n",
    "        aux=dfTotales[dfTotales['grupo']==grupo]\n",
    "        aux=aux.reindex(ind, fill_value=0)\n",
    "        aux['grupo']=grupo\n",
    "        if i==0:\n",
    "            dfTotalesCom=aux\n",
    "        else:\n",
    "            dfTotalesCom=dfTotalesCom.append(aux) \n",
    "        i=i+1    \n",
    "    finalPrediccionesFuturas = pd.DataFrame()\n",
    "    groupedPred=dfTotalesCom[['grupo','VAL']].groupby('grupo')\n",
    "    ### Prediccines futuras\n",
    "    i=0\n",
    "    for g in groupedPred.groups:       \n",
    "        group = groupedPred.get_group(g)        \n",
    "        model = ETSModel(group['VAL'].astype(float),seasonal_periods=dias_ciclo,error=\"add\",trend=\"add\",seasonal=\"add\", damped_trend=True,)\n",
    "        model= model.fit()\n",
    "        start=len(group['VAL'])\n",
    "        forecast = pd.DataFrame(model.get_prediction(start=start, end=start+diasHorizonte-1).summary_frame(alpha=0.05)['mean'],index=ind_P)       \n",
    "\n",
    "        forecast.columns = ['pred'] \n",
    "        forecast['grupo']=g\n",
    "        forecast['Metodo']='ETS'\n",
    "\n",
    "        if i==0:\n",
    "            finalPrediccionesFuturas=forecast\n",
    "        else:\n",
    "            finalPrediccionesFuturas=finalPrediccionesFuturas.append(forecast) \n",
    "        i=i+1\n",
    "    #Reemplazar negativos por cero\n",
    "    finalPrediccionesFuturas['pred']=np.where(finalPrediccionesFuturas['pred']<0,0,finalPrediccionesFuturas['pred'])\n",
    "    #Respuesta en Enteros\n",
    "    finalPrediccionesFuturas['pred']=finalPrediccionesFuturas['pred'].round(0).astype(int)\n",
    "    return finalPrediccionesFuturas"
   ]
  },
  {
   "cell_type": "code",
   "execution_count": 201,
   "id": "3c7e0850",
   "metadata": {},
   "outputs": [],
   "source": [
    "nivelesPrediccion={}\n",
    "nivelesPrediccion[0]=['EVENTO']\n",
    "nivelesPrediccion[1]=['DES_DEPARTAMENTO','EVENTO']\n",
    "nivelesPrediccion[2]=['DES_DEPARTAMENTO','DES_MUNICIPIO','EVENTO']\n",
    "nivelesPrediccion[3]=['DES_DEPARTAMENTO','DES_MUNICIPIO','DES_AMBITO','EVENTO']\n",
    "nivelesPrediccion[4]=['DES_DEPARTAMENTO','DES_MUNICIPIO','DES_TIPO','EVENTO']\n",
    "nivelesPrediccion[5]=['DES_DEPARTAMENTO','DES_MUNICIPIO','DES_TIPO','DES_MARCA','EVENTO']\n",
    "nivelesPrediccion[6]=['DES_AMBITO','DES_TIPO','DES_MARCA','EVENTO']\n",
    "nivelesPrediccion[7]=['DES_AMBITO','DES_SUBAMBITO','DES_TIPO','DES_MARCA','EVENTO']"
   ]
  },
  {
   "cell_type": "code",
   "execution_count": 202,
   "id": "5f34d6c5",
   "metadata": {
    "scrolled": false
   },
   "outputs": [
    {
     "name": "stdout",
     "output_type": "stream",
     "text": [
      "0   ['EVENTO']\n",
      "1   ['DES_DEPARTAMENTO', 'EVENTO']\n",
      "2   ['DES_DEPARTAMENTO', 'DES_MUNICIPIO', 'EVENTO']\n",
      "3   ['DES_DEPARTAMENTO', 'DES_MUNICIPIO', 'DES_AMBITO', 'EVENTO']\n",
      "4   ['DES_DEPARTAMENTO', 'DES_MUNICIPIO', 'DES_TIPO', 'EVENTO']\n",
      "5   ['DES_DEPARTAMENTO', 'DES_MUNICIPIO', 'DES_TIPO', 'DES_MARCA', 'EVENTO']\n",
      "6   ['DES_AMBITO', 'DES_TIPO', 'DES_MARCA', 'EVENTO']\n",
      "7   ['DES_AMBITO', 'DES_SUBAMBITO', 'DES_TIPO', 'DES_MARCA', 'EVENTO']\n"
     ]
    }
   ],
   "source": [
    "##Calcular predicciones\n",
    "i=0\n",
    "for nivel, grupo in nivelesPrediccion.items():\n",
    "    print(i,\" \",grupo)\n",
    "    pred=prediccionETS(grupo)\n",
    "    pred[grupo]=pred['grupo'].str.split('|',expand=True)\n",
    "    pred['nivel']='|'.join(grupo)\n",
    "    if i==0:\n",
    "        respuesta=pred.copy()\n",
    "    else:\n",
    "        respuesta=respuesta.append(pred)\n",
    "    i=i+1"
   ]
  },
  {
   "cell_type": "code",
   "execution_count": 203,
   "id": "f31a492b",
   "metadata": {
    "scrolled": true
   },
   "outputs": [
    {
     "data": {
      "text/html": [
       "<div>\n",
       "<style scoped>\n",
       "    .dataframe tbody tr th:only-of-type {\n",
       "        vertical-align: middle;\n",
       "    }\n",
       "\n",
       "    .dataframe tbody tr th {\n",
       "        vertical-align: top;\n",
       "    }\n",
       "\n",
       "    .dataframe thead th {\n",
       "        text-align: right;\n",
       "    }\n",
       "</style>\n",
       "<table border=\"1\" class=\"dataframe\">\n",
       "  <thead>\n",
       "    <tr style=\"text-align: right;\">\n",
       "      <th></th>\n",
       "      <th>pred</th>\n",
       "      <th>Metodo</th>\n",
       "      <th>EVENTO</th>\n",
       "      <th>nivel</th>\n",
       "      <th>DES_DEPARTAMENTO</th>\n",
       "      <th>DES_MUNICIPIO</th>\n",
       "      <th>DES_AMBITO</th>\n",
       "      <th>DES_TIPO</th>\n",
       "      <th>DES_MARCA</th>\n",
       "      <th>DES_SUBAMBITO</th>\n",
       "    </tr>\n",
       "    <tr>\n",
       "      <th>FECHA</th>\n",
       "      <th></th>\n",
       "      <th></th>\n",
       "      <th></th>\n",
       "      <th></th>\n",
       "      <th></th>\n",
       "      <th></th>\n",
       "      <th></th>\n",
       "      <th></th>\n",
       "      <th></th>\n",
       "      <th></th>\n",
       "    </tr>\n",
       "  </thead>\n",
       "  <tbody>\n",
       "    <tr>\n",
       "      <th>2021-12-14</th>\n",
       "      <td>7</td>\n",
       "      <td>ETS</td>\n",
       "      <td>VAL_EVENTOS_FALLA_ENERGIA_COMERCIAL</td>\n",
       "      <td>DES_AMBITO|DES_TIPO|DES_MARCA|EVENTO</td>\n",
       "      <td>NaN</td>\n",
       "      <td>NaN</td>\n",
       "      <td>VRO</td>\n",
       "      <td>Rectificadores</td>\n",
       "      <td>Emerson</td>\n",
       "      <td>NaN</td>\n",
       "    </tr>\n",
       "    <tr>\n",
       "      <th>2021-12-17</th>\n",
       "      <td>1</td>\n",
       "      <td>ETS</td>\n",
       "      <td>VAL_EVENTOS_FALLA_ENERGIA_COMERCIAL</td>\n",
       "      <td>DES_DEPARTAMENTO|DES_MUNICIPIO|DES_TIPO|DES_MA...</td>\n",
       "      <td>Santander</td>\n",
       "      <td>Puerto Wilches</td>\n",
       "      <td>NaN</td>\n",
       "      <td>UPS</td>\n",
       "      <td>Energex</td>\n",
       "      <td>NaN</td>\n",
       "    </tr>\n",
       "    <tr>\n",
       "      <th>2021-12-15</th>\n",
       "      <td>0</td>\n",
       "      <td>ETS</td>\n",
       "      <td>VAL_EVENTOS_FALLA_ENERGIA_COMERCIAL</td>\n",
       "      <td>DES_AMBITO|DES_TIPO|DES_MARCA|EVENTO</td>\n",
       "      <td>NaN</td>\n",
       "      <td>NaN</td>\n",
       "      <td>Proyectos</td>\n",
       "      <td>nan</td>\n",
       "      <td>nan</td>\n",
       "      <td>NaN</td>\n",
       "    </tr>\n",
       "    <tr>\n",
       "      <th>2021-12-17</th>\n",
       "      <td>0</td>\n",
       "      <td>ETS</td>\n",
       "      <td>VAL_EVENTOS_FALLA_ENERGIA_COMERCIAL</td>\n",
       "      <td>DES_DEPARTAMENTO|DES_MUNICIPIO|DES_TIPO|EVENTO</td>\n",
       "      <td>Meta</td>\n",
       "      <td>Castilla la Nueva</td>\n",
       "      <td>NaN</td>\n",
       "      <td>UPS</td>\n",
       "      <td>NaN</td>\n",
       "      <td>NaN</td>\n",
       "    </tr>\n",
       "    <tr>\n",
       "      <th>2021-12-21</th>\n",
       "      <td>0</td>\n",
       "      <td>ETS</td>\n",
       "      <td>VAL_EVENTOS_FALLA_ENERGIA_COMERCIAL</td>\n",
       "      <td>DES_DEPARTAMENTO|DES_MUNICIPIO|EVENTO</td>\n",
       "      <td>Cundinamarca</td>\n",
       "      <td>Puerto Salgar</td>\n",
       "      <td>NaN</td>\n",
       "      <td>NaN</td>\n",
       "      <td>NaN</td>\n",
       "      <td>NaN</td>\n",
       "    </tr>\n",
       "    <tr>\n",
       "      <th>2021-12-21</th>\n",
       "      <td>0</td>\n",
       "      <td>ETS</td>\n",
       "      <td>VAL_EVENTOS_BAJA_PRESION</td>\n",
       "      <td>DES_AMBITO|DES_SUBAMBITO|DES_TIPO|DES_MARCA|EV...</td>\n",
       "      <td>NaN</td>\n",
       "      <td>NaN</td>\n",
       "      <td>INFRABASICA</td>\n",
       "      <td>COOLING</td>\n",
       "      <td>Stulz</td>\n",
       "      <td>CABLEADO E INFRABASICA</td>\n",
       "    </tr>\n",
       "    <tr>\n",
       "      <th>2021-12-19</th>\n",
       "      <td>5</td>\n",
       "      <td>ETS</td>\n",
       "      <td>VAL_EVENTOS_FALLA_ENERGIA_COMERCIAL</td>\n",
       "      <td>DES_DEPARTAMENTO|EVENTO</td>\n",
       "      <td>Cundinamarca</td>\n",
       "      <td>NaN</td>\n",
       "      <td>NaN</td>\n",
       "      <td>NaN</td>\n",
       "      <td>NaN</td>\n",
       "      <td>NaN</td>\n",
       "    </tr>\n",
       "    <tr>\n",
       "      <th>2021-12-21</th>\n",
       "      <td>1</td>\n",
       "      <td>ETS</td>\n",
       "      <td>VAL_EVENTOS_FALLA_ENERGIA_COMERCIAL</td>\n",
       "      <td>DES_AMBITO|DES_SUBAMBITO|DES_TIPO|DES_MARCA|EV...</td>\n",
       "      <td>NaN</td>\n",
       "      <td>NaN</td>\n",
       "      <td>INFRABASICA</td>\n",
       "      <td>UPS</td>\n",
       "      <td>Energex</td>\n",
       "      <td>CABLEADO E INFRABASICA</td>\n",
       "    </tr>\n",
       "    <tr>\n",
       "      <th>2021-12-19</th>\n",
       "      <td>0</td>\n",
       "      <td>ETS</td>\n",
       "      <td>VAL_EVENTOS_FALLA_ENERGIA_COMERCIAL</td>\n",
       "      <td>DES_DEPARTAMENTO|DES_MUNICIPIO|DES_TIPO|DES_MA...</td>\n",
       "      <td>Bolivar</td>\n",
       "      <td>Cartagena</td>\n",
       "      <td>NaN</td>\n",
       "      <td>UPS</td>\n",
       "      <td>Eaton</td>\n",
       "      <td>NaN</td>\n",
       "    </tr>\n",
       "    <tr>\n",
       "      <th>2021-12-21</th>\n",
       "      <td>0</td>\n",
       "      <td>ETS</td>\n",
       "      <td>VAL_EVENTOS_FALLA_ENERGIA_COMERCIAL</td>\n",
       "      <td>DES_DEPARTAMENTO|DES_MUNICIPIO|DES_TIPO|DES_MA...</td>\n",
       "      <td>Cundinamarca</td>\n",
       "      <td>Puerto Salgar</td>\n",
       "      <td>NaN</td>\n",
       "      <td>nan</td>\n",
       "      <td>nan</td>\n",
       "      <td>NaN</td>\n",
       "    </tr>\n",
       "  </tbody>\n",
       "</table>\n",
       "</div>"
      ],
      "text/plain": [
       "            pred Metodo                               EVENTO  \\\n",
       "FECHA                                                          \n",
       "2021-12-14     7    ETS  VAL_EVENTOS_FALLA_ENERGIA_COMERCIAL   \n",
       "2021-12-17     1    ETS  VAL_EVENTOS_FALLA_ENERGIA_COMERCIAL   \n",
       "2021-12-15     0    ETS  VAL_EVENTOS_FALLA_ENERGIA_COMERCIAL   \n",
       "2021-12-17     0    ETS  VAL_EVENTOS_FALLA_ENERGIA_COMERCIAL   \n",
       "2021-12-21     0    ETS  VAL_EVENTOS_FALLA_ENERGIA_COMERCIAL   \n",
       "2021-12-21     0    ETS             VAL_EVENTOS_BAJA_PRESION   \n",
       "2021-12-19     5    ETS  VAL_EVENTOS_FALLA_ENERGIA_COMERCIAL   \n",
       "2021-12-21     1    ETS  VAL_EVENTOS_FALLA_ENERGIA_COMERCIAL   \n",
       "2021-12-19     0    ETS  VAL_EVENTOS_FALLA_ENERGIA_COMERCIAL   \n",
       "2021-12-21     0    ETS  VAL_EVENTOS_FALLA_ENERGIA_COMERCIAL   \n",
       "\n",
       "                                                        nivel  \\\n",
       "FECHA                                                           \n",
       "2021-12-14               DES_AMBITO|DES_TIPO|DES_MARCA|EVENTO   \n",
       "2021-12-17  DES_DEPARTAMENTO|DES_MUNICIPIO|DES_TIPO|DES_MA...   \n",
       "2021-12-15               DES_AMBITO|DES_TIPO|DES_MARCA|EVENTO   \n",
       "2021-12-17     DES_DEPARTAMENTO|DES_MUNICIPIO|DES_TIPO|EVENTO   \n",
       "2021-12-21              DES_DEPARTAMENTO|DES_MUNICIPIO|EVENTO   \n",
       "2021-12-21  DES_AMBITO|DES_SUBAMBITO|DES_TIPO|DES_MARCA|EV...   \n",
       "2021-12-19                            DES_DEPARTAMENTO|EVENTO   \n",
       "2021-12-21  DES_AMBITO|DES_SUBAMBITO|DES_TIPO|DES_MARCA|EV...   \n",
       "2021-12-19  DES_DEPARTAMENTO|DES_MUNICIPIO|DES_TIPO|DES_MA...   \n",
       "2021-12-21  DES_DEPARTAMENTO|DES_MUNICIPIO|DES_TIPO|DES_MA...   \n",
       "\n",
       "           DES_DEPARTAMENTO      DES_MUNICIPIO   DES_AMBITO        DES_TIPO  \\\n",
       "FECHA                                                                         \n",
       "2021-12-14              NaN                NaN          VRO  Rectificadores   \n",
       "2021-12-17        Santander     Puerto Wilches          NaN             UPS   \n",
       "2021-12-15              NaN                NaN    Proyectos             nan   \n",
       "2021-12-17             Meta  Castilla la Nueva          NaN             UPS   \n",
       "2021-12-21     Cundinamarca      Puerto Salgar          NaN             NaN   \n",
       "2021-12-21              NaN                NaN  INFRABASICA         COOLING   \n",
       "2021-12-19     Cundinamarca                NaN          NaN             NaN   \n",
       "2021-12-21              NaN                NaN  INFRABASICA             UPS   \n",
       "2021-12-19          Bolivar          Cartagena          NaN             UPS   \n",
       "2021-12-21     Cundinamarca      Puerto Salgar          NaN             nan   \n",
       "\n",
       "           DES_MARCA           DES_SUBAMBITO  \n",
       "FECHA                                         \n",
       "2021-12-14   Emerson                     NaN  \n",
       "2021-12-17   Energex                     NaN  \n",
       "2021-12-15       nan                     NaN  \n",
       "2021-12-17       NaN                     NaN  \n",
       "2021-12-21       NaN                     NaN  \n",
       "2021-12-21     Stulz  CABLEADO E INFRABASICA  \n",
       "2021-12-19       NaN                     NaN  \n",
       "2021-12-21   Energex  CABLEADO E INFRABASICA  \n",
       "2021-12-19     Eaton                     NaN  \n",
       "2021-12-21       nan                     NaN  "
      ]
     },
     "execution_count": 203,
     "metadata": {},
     "output_type": "execute_result"
    }
   ],
   "source": [
    "respuesta.drop(columns=['grupo'],inplace=True)\n",
    "#respuesta.sample(10)"
   ]
  },
  {
   "cell_type": "code",
   "execution_count": 204,
   "id": "26dd7a93",
   "metadata": {},
   "outputs": [
    {
     "data": {
      "text/plain": [
       "'../3.Resultados/prediccion.csv'"
      ]
     },
     "execution_count": 204,
     "metadata": {},
     "output_type": "execute_result"
    }
   ],
   "source": [
    "nombreArchivo=\"../3.Resultados/prediccion.csv\"\n",
    "nombreArchivo"
   ]
  },
  {
   "cell_type": "code",
   "execution_count": 205,
   "id": "162b2946",
   "metadata": {},
   "outputs": [],
   "source": [
    "respuesta.to_csv(nombreArchivo,sep=\";\")"
   ]
  }
 ],
 "metadata": {
  "kernelspec": {
   "display_name": "Python 3",
   "language": "python",
   "name": "python3"
  },
  "language_info": {
   "codemirror_mode": {
    "name": "ipython",
    "version": 3
   },
   "file_extension": ".py",
   "mimetype": "text/x-python",
   "name": "python",
   "nbconvert_exporter": "python",
   "pygments_lexer": "ipython3",
   "version": "3.9.0"
  }
 },
 "nbformat": 4,
 "nbformat_minor": 5
}
