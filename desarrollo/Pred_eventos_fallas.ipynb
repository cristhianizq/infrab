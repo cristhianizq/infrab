{
 "cells": [
  {
   "cell_type": "markdown",
   "id": "466ade14",
   "metadata": {},
   "source": [
    "# PREDICCIÓN CHURN POR NODO"
   ]
  },
  {
   "cell_type": "markdown",
   "id": "746d5d89",
   "metadata": {},
   "source": [
    "## CONTENIDO\n",
    "\n",
    "* Carga de librerías\n",
    " * Configuraciones ambiente de trabajo\n",
    "* "
   ]
  },
  {
   "cell_type": "markdown",
   "id": "10d7b207",
   "metadata": {},
   "source": [
    "## Carga de librerías"
   ]
  },
  {
   "cell_type": "code",
   "execution_count": 2,
   "id": "ce6742bd",
   "metadata": {},
   "outputs": [],
   "source": [
    "import pandas as pd\n",
    "import numpy as np\n",
    "from pmdarima.arima import auto_arima\n",
    "from dateutil.relativedelta import relativedelta\n",
    "import matplotlib.pyplot as plt\n",
    "from sklearn.metrics import mean_absolute_percentage_error,  mean_squared_error\n",
    "from statsmodels.tsa.holtwinters import SimpleExpSmoothing, Holt,ExponentialSmoothing\n",
    "import statsmodels.api as sm\n",
    "import seaborn as sns"
   ]
  },
  {
   "cell_type": "markdown",
   "id": "2bcdfbb1",
   "metadata": {},
   "source": [
    "### Configuraciones ambiente de trabajo"
   ]
  },
  {
   "cell_type": "code",
   "execution_count": 3,
   "id": "65865f8d",
   "metadata": {},
   "outputs": [
    {
     "data": {
      "text/html": [
       "<style>.container { width:100% !important; }</style>"
      ],
      "text/plain": [
       "<IPython.core.display.HTML object>"
      ]
     },
     "metadata": {},
     "output_type": "display_data"
    }
   ],
   "source": [
    "import warnings\n",
    "warnings.filterwarnings('ignore')\n",
    "pd.set_option(\"display.max_columns\", None)\n",
    "pd.set_option('display.max_rows', None)\n",
    "pd.set_option('display.float_format', lambda x: '%.3f' % x)\n",
    "np.set_printoptions(suppress=True)\n",
    "from IPython.core.display import display, HTML\n",
    "display(HTML(\"<style>.container { width:100% !important; }</style>\"))"
   ]
  },
  {
   "cell_type": "code",
   "execution_count": 3,
   "id": "3fd5cbd4",
   "metadata": {},
   "outputs": [],
   "source": [
    "df= pd.read_csv(f'VW_TRAF_KPIS_DIA_202110190921.csv',sep='|')"
   ]
  },
  {
   "cell_type": "code",
   "execution_count": 4,
   "id": "89e9e344",
   "metadata": {},
   "outputs": [
    {
     "data": {
      "text/html": [
       "<div>\n",
       "<style scoped>\n",
       "    .dataframe tbody tr th:only-of-type {\n",
       "        vertical-align: middle;\n",
       "    }\n",
       "\n",
       "    .dataframe tbody tr th {\n",
       "        vertical-align: top;\n",
       "    }\n",
       "\n",
       "    .dataframe thead th {\n",
       "        text-align: right;\n",
       "    }\n",
       "</style>\n",
       "<table border=\"1\" class=\"dataframe\">\n",
       "  <thead>\n",
       "    <tr style=\"text-align: right;\">\n",
       "      <th></th>\n",
       "      <th>FEC_MEDICION</th>\n",
       "      <th>DES_AMBITO</th>\n",
       "      <th>DES_SUBAMBITO</th>\n",
       "      <th>COD_EQUIPO</th>\n",
       "      <th>IP_EQUIPO</th>\n",
       "      <th>DES_MUNICIPIO</th>\n",
       "      <th>DES_DEPARTEMENTO</th>\n",
       "      <th>VAL_DIPONIBILIDAD_MAX</th>\n",
       "      <th>VAL_DIPONIBILIDAD_PROM</th>\n",
       "      <th>VAL_LATENCIA_MAX</th>\n",
       "      <th>VAL_LATENCIA_PROM</th>\n",
       "      <th>VAL_JITTER_MAX</th>\n",
       "      <th>VAL_JITTER_PROM</th>\n",
       "      <th>VAL_PLOS_MAX</th>\n",
       "      <th>VAL_PLOS_PROM</th>\n",
       "      <th>VAL_CPU_MAX</th>\n",
       "      <th>VAL_CPU_PROM</th>\n",
       "      <th>VAL_MEM_MAX</th>\n",
       "      <th>VAL_MEM_PROM</th>\n",
       "      <th>VAL_TEMP_MAX</th>\n",
       "      <th>VAL_TEMP_PROM</th>\n",
       "      <th>VAL_LATENCIA_MAX_SONDAS</th>\n",
       "      <th>VAL_LATENCIA_PROM_SONDAS</th>\n",
       "      <th>VAL_JITTER_MAX_SONDAS</th>\n",
       "      <th>VAL_JITTER_PROM_SONDAS</th>\n",
       "      <th>VAL_PLOS_MAX_SONDAS</th>\n",
       "      <th>VAL_PLOS_PROM_SONDAS</th>\n",
       "      <th>VAL_EVENTOS_FALLA_ENERGIA_COMERCIAL</th>\n",
       "      <th>VAL_EVENTOS_FALLA_MODULO_RECTIFICADOR</th>\n",
       "      <th>VAL_EVENTOS_PLANTA_ELECTRICA_ENCENDIDA</th>\n",
       "      <th>VAL_EVENTOS_ALTA_PRESION</th>\n",
       "      <th>VAL_EVENTOS_BAJA_PRESION</th>\n",
       "      <th>VAL_EVENTOS_FALLA_COMPRESOR</th>\n",
       "    </tr>\n",
       "  </thead>\n",
       "  <tbody>\n",
       "    <tr>\n",
       "      <th>0</th>\n",
       "      <td>2020-10-17 00:00:00</td>\n",
       "      <td>LTE</td>\n",
       "      <td>CONECTIVIDAD</td>\n",
       "      <td>R7705_PZ-SF-1_LTE_01</td>\n",
       "      <td>10.82.190.40</td>\n",
       "      <td>Aipe</td>\n",
       "      <td>Huila</td>\n",
       "      <td>100.000</td>\n",
       "      <td>100.000</td>\n",
       "      <td>104.620</td>\n",
       "      <td>65.210</td>\n",
       "      <td>0.000</td>\n",
       "      <td>6.290</td>\n",
       "      <td>1.380</td>\n",
       "      <td>0.870</td>\n",
       "      <td>16.000</td>\n",
       "      <td>13.250</td>\n",
       "      <td>31.450</td>\n",
       "      <td>16.000</td>\n",
       "      <td>0.000</td>\n",
       "      <td>0.000</td>\n",
       "      <td>0.000</td>\n",
       "      <td>0.000</td>\n",
       "      <td>0</td>\n",
       "      <td>0.000</td>\n",
       "      <td>0.000</td>\n",
       "      <td>0.000</td>\n",
       "      <td>0</td>\n",
       "      <td>0</td>\n",
       "      <td>0</td>\n",
       "      <td>0</td>\n",
       "      <td>0</td>\n",
       "      <td>0</td>\n",
       "    </tr>\n",
       "    <tr>\n",
       "      <th>1</th>\n",
       "      <td>2020-10-17 00:00:00</td>\n",
       "      <td>LTE</td>\n",
       "      <td>CONECTIVIDAD</td>\n",
       "      <td>R7705_PZ-SF-11_LTE_01</td>\n",
       "      <td>10.82.190.16</td>\n",
       "      <td>Aipe</td>\n",
       "      <td>Huila</td>\n",
       "      <td>100.000</td>\n",
       "      <td>100.000</td>\n",
       "      <td>78.600</td>\n",
       "      <td>67.350</td>\n",
       "      <td>0.000</td>\n",
       "      <td>6.380</td>\n",
       "      <td>0.820</td>\n",
       "      <td>0.480</td>\n",
       "      <td>16.710</td>\n",
       "      <td>12.680</td>\n",
       "      <td>31.460</td>\n",
       "      <td>16.710</td>\n",
       "      <td>0.000</td>\n",
       "      <td>0.000</td>\n",
       "      <td>0.000</td>\n",
       "      <td>0.000</td>\n",
       "      <td>0</td>\n",
       "      <td>0.000</td>\n",
       "      <td>0.000</td>\n",
       "      <td>0.000</td>\n",
       "      <td>0</td>\n",
       "      <td>0</td>\n",
       "      <td>0</td>\n",
       "      <td>0</td>\n",
       "      <td>0</td>\n",
       "      <td>0</td>\n",
       "    </tr>\n",
       "  </tbody>\n",
       "</table>\n",
       "</div>"
      ],
      "text/plain": [
       "          FEC_MEDICION DES_AMBITO DES_SUBAMBITO             COD_EQUIPO  \\\n",
       "0  2020-10-17 00:00:00        LTE  CONECTIVIDAD   R7705_PZ-SF-1_LTE_01   \n",
       "1  2020-10-17 00:00:00        LTE  CONECTIVIDAD  R7705_PZ-SF-11_LTE_01   \n",
       "\n",
       "      IP_EQUIPO DES_MUNICIPIO DES_DEPARTEMENTO  VAL_DIPONIBILIDAD_MAX  \\\n",
       "0  10.82.190.40          Aipe            Huila                100.000   \n",
       "1  10.82.190.16          Aipe            Huila                100.000   \n",
       "\n",
       "   VAL_DIPONIBILIDAD_PROM  VAL_LATENCIA_MAX  VAL_LATENCIA_PROM  \\\n",
       "0                 100.000           104.620             65.210   \n",
       "1                 100.000            78.600             67.350   \n",
       "\n",
       "   VAL_JITTER_MAX  VAL_JITTER_PROM  VAL_PLOS_MAX  VAL_PLOS_PROM  VAL_CPU_MAX  \\\n",
       "0           0.000            6.290         1.380          0.870       16.000   \n",
       "1           0.000            6.380         0.820          0.480       16.710   \n",
       "\n",
       "   VAL_CPU_PROM  VAL_MEM_MAX  VAL_MEM_PROM  VAL_TEMP_MAX  VAL_TEMP_PROM  \\\n",
       "0        13.250       31.450        16.000         0.000          0.000   \n",
       "1        12.680       31.460        16.710         0.000          0.000   \n",
       "\n",
       "   VAL_LATENCIA_MAX_SONDAS  VAL_LATENCIA_PROM_SONDAS  VAL_JITTER_MAX_SONDAS  \\\n",
       "0                    0.000                     0.000                      0   \n",
       "1                    0.000                     0.000                      0   \n",
       "\n",
       "   VAL_JITTER_PROM_SONDAS  VAL_PLOS_MAX_SONDAS  VAL_PLOS_PROM_SONDAS  \\\n",
       "0                   0.000                0.000                 0.000   \n",
       "1                   0.000                0.000                 0.000   \n",
       "\n",
       "   VAL_EVENTOS_FALLA_ENERGIA_COMERCIAL  VAL_EVENTOS_FALLA_MODULO_RECTIFICADOR  \\\n",
       "0                                    0                                      0   \n",
       "1                                    0                                      0   \n",
       "\n",
       "   VAL_EVENTOS_PLANTA_ELECTRICA_ENCENDIDA  VAL_EVENTOS_ALTA_PRESION  \\\n",
       "0                                       0                         0   \n",
       "1                                       0                         0   \n",
       "\n",
       "   VAL_EVENTOS_BAJA_PRESION  VAL_EVENTOS_FALLA_COMPRESOR  \n",
       "0                         0                            0  \n",
       "1                         0                            0  "
      ]
     },
     "execution_count": 4,
     "metadata": {},
     "output_type": "execute_result"
    }
   ],
   "source": [
    "df.head(2)"
   ]
  },
  {
   "cell_type": "code",
   "execution_count": 5,
   "id": "412f0a40",
   "metadata": {},
   "outputs": [
    {
     "data": {
      "text/plain": [
       "821191"
      ]
     },
     "execution_count": 5,
     "metadata": {},
     "output_type": "execute_result"
    }
   ],
   "source": [
    "len(df)"
   ]
  },
  {
   "cell_type": "code",
   "execution_count": 6,
   "id": "41440802",
   "metadata": {},
   "outputs": [],
   "source": [
    "# colocar la fecha como index\n",
    "df.set_index('FEC_MEDICION',inplace=True)"
   ]
  },
  {
   "cell_type": "code",
   "execution_count": 7,
   "id": "475451fa",
   "metadata": {},
   "outputs": [],
   "source": [
    "df.index=pd.to_datetime(df.index)"
   ]
  },
  {
   "cell_type": "code",
   "execution_count": 8,
   "id": "e984c30d-33e5-4501-ac32-b1083dfe221d",
   "metadata": {},
   "outputs": [],
   "source": [
    "### Calcular minima fecha de eventos"
   ]
  },
  {
   "cell_type": "code",
   "execution_count": 9,
   "id": "d83ecd84-03b0-4341-9fb5-4c51a0c95858",
   "metadata": {},
   "outputs": [],
   "source": [
    "df['totalEventos']=df.filter(regex='^'+'VAL_EVENTOS',axis=1).sum(axis=1)"
   ]
  },
  {
   "cell_type": "code",
   "execution_count": 10,
   "id": "72dcfb3c-995b-41c2-adcc-e4b1eb743257",
   "metadata": {},
   "outputs": [
    {
     "data": {
      "text/plain": [
       "Timestamp('2021-09-09 00:00:00')"
      ]
     },
     "execution_count": 10,
     "metadata": {},
     "output_type": "execute_result"
    }
   ],
   "source": [
    "minFecha=df[df['totalEventos']>0].index.min()\n",
    "minFecha"
   ]
  },
  {
   "cell_type": "code",
   "execution_count": 11,
   "id": "9d0cdf95-b7a9-4eb4-bd9e-8ffeaf6083df",
   "metadata": {},
   "outputs": [],
   "source": [
    "df=df[df.index>=minFecha]"
   ]
  },
  {
   "cell_type": "code",
   "execution_count": 12,
   "id": "22f0e6b8-c037-4ec2-a57f-090fcdb0bb76",
   "metadata": {},
   "outputs": [
    {
     "data": {
      "text/plain": [
       "141037"
      ]
     },
     "execution_count": 12,
     "metadata": {},
     "output_type": "execute_result"
    }
   ],
   "source": [
    "len(df)"
   ]
  },
  {
   "cell_type": "code",
   "execution_count": 13,
   "id": "6ecfb498-cc15-4812-b9b8-1e694305da6b",
   "metadata": {},
   "outputs": [],
   "source": [
    "df=df.filter(regex='^'+'VAL_EVENTOS',axis=1)"
   ]
  },
  {
   "cell_type": "markdown",
   "id": "8dbc2d61-01be-4f54-8955-e1c1ed4f0fba",
   "metadata": {},
   "source": [
    "## Totales"
   ]
  },
  {
   "cell_type": "code",
   "execution_count": 14,
   "id": "d61ffad5-db71-4fc4-a075-5b30924a8413",
   "metadata": {},
   "outputs": [
    {
     "data": {
      "text/html": [
       "<div>\n",
       "<style scoped>\n",
       "    .dataframe tbody tr th:only-of-type {\n",
       "        vertical-align: middle;\n",
       "    }\n",
       "\n",
       "    .dataframe tbody tr th {\n",
       "        vertical-align: top;\n",
       "    }\n",
       "\n",
       "    .dataframe thead th {\n",
       "        text-align: right;\n",
       "    }\n",
       "</style>\n",
       "<table border=\"1\" class=\"dataframe\">\n",
       "  <thead>\n",
       "    <tr style=\"text-align: right;\">\n",
       "      <th></th>\n",
       "      <th>VAL_EVENTOS_FALLA_ENERGIA_COMERCIAL</th>\n",
       "      <th>VAL_EVENTOS_FALLA_MODULO_RECTIFICADOR</th>\n",
       "      <th>VAL_EVENTOS_PLANTA_ELECTRICA_ENCENDIDA</th>\n",
       "      <th>VAL_EVENTOS_ALTA_PRESION</th>\n",
       "      <th>VAL_EVENTOS_BAJA_PRESION</th>\n",
       "      <th>VAL_EVENTOS_FALLA_COMPRESOR</th>\n",
       "    </tr>\n",
       "    <tr>\n",
       "      <th>FEC_MEDICION</th>\n",
       "      <th></th>\n",
       "      <th></th>\n",
       "      <th></th>\n",
       "      <th></th>\n",
       "      <th></th>\n",
       "      <th></th>\n",
       "    </tr>\n",
       "  </thead>\n",
       "  <tbody>\n",
       "    <tr>\n",
       "      <th>2021-09-09</th>\n",
       "      <td>0</td>\n",
       "      <td>0</td>\n",
       "      <td>0</td>\n",
       "      <td>0</td>\n",
       "      <td>0</td>\n",
       "      <td>0</td>\n",
       "    </tr>\n",
       "    <tr>\n",
       "      <th>2021-09-09</th>\n",
       "      <td>0</td>\n",
       "      <td>0</td>\n",
       "      <td>0</td>\n",
       "      <td>0</td>\n",
       "      <td>0</td>\n",
       "      <td>0</td>\n",
       "    </tr>\n",
       "    <tr>\n",
       "      <th>2021-09-09</th>\n",
       "      <td>0</td>\n",
       "      <td>0</td>\n",
       "      <td>0</td>\n",
       "      <td>0</td>\n",
       "      <td>0</td>\n",
       "      <td>0</td>\n",
       "    </tr>\n",
       "    <tr>\n",
       "      <th>2021-09-09</th>\n",
       "      <td>0</td>\n",
       "      <td>0</td>\n",
       "      <td>0</td>\n",
       "      <td>0</td>\n",
       "      <td>0</td>\n",
       "      <td>0</td>\n",
       "    </tr>\n",
       "    <tr>\n",
       "      <th>2021-09-09</th>\n",
       "      <td>0</td>\n",
       "      <td>0</td>\n",
       "      <td>0</td>\n",
       "      <td>0</td>\n",
       "      <td>0</td>\n",
       "      <td>0</td>\n",
       "    </tr>\n",
       "  </tbody>\n",
       "</table>\n",
       "</div>"
      ],
      "text/plain": [
       "              VAL_EVENTOS_FALLA_ENERGIA_COMERCIAL  \\\n",
       "FEC_MEDICION                                        \n",
       "2021-09-09                                      0   \n",
       "2021-09-09                                      0   \n",
       "2021-09-09                                      0   \n",
       "2021-09-09                                      0   \n",
       "2021-09-09                                      0   \n",
       "\n",
       "              VAL_EVENTOS_FALLA_MODULO_RECTIFICADOR  \\\n",
       "FEC_MEDICION                                          \n",
       "2021-09-09                                        0   \n",
       "2021-09-09                                        0   \n",
       "2021-09-09                                        0   \n",
       "2021-09-09                                        0   \n",
       "2021-09-09                                        0   \n",
       "\n",
       "              VAL_EVENTOS_PLANTA_ELECTRICA_ENCENDIDA  \\\n",
       "FEC_MEDICION                                           \n",
       "2021-09-09                                         0   \n",
       "2021-09-09                                         0   \n",
       "2021-09-09                                         0   \n",
       "2021-09-09                                         0   \n",
       "2021-09-09                                         0   \n",
       "\n",
       "              VAL_EVENTOS_ALTA_PRESION  VAL_EVENTOS_BAJA_PRESION  \\\n",
       "FEC_MEDICION                                                       \n",
       "2021-09-09                           0                         0   \n",
       "2021-09-09                           0                         0   \n",
       "2021-09-09                           0                         0   \n",
       "2021-09-09                           0                         0   \n",
       "2021-09-09                           0                         0   \n",
       "\n",
       "              VAL_EVENTOS_FALLA_COMPRESOR  \n",
       "FEC_MEDICION                               \n",
       "2021-09-09                              0  \n",
       "2021-09-09                              0  \n",
       "2021-09-09                              0  \n",
       "2021-09-09                              0  \n",
       "2021-09-09                              0  "
      ]
     },
     "execution_count": 14,
     "metadata": {},
     "output_type": "execute_result"
    }
   ],
   "source": [
    "df.head()"
   ]
  },
  {
   "cell_type": "code",
   "execution_count": 15,
   "id": "b02d4608-f3a1-4f4f-8f04-1e373c1a0ece",
   "metadata": {},
   "outputs": [
    {
     "data": {
      "image/png": "[encoded data removed]",
      "text/plain": [
       "<Figure size 720x720 with 6 Axes>"
      ]
     },
     "metadata": {
      "needs_background": "light"
     },
     "output_type": "display_data"
    }
   ],
   "source": [
    "df.plot(subplots=True,figsize=(10,10));"
   ]
  },
  {
   "cell_type": "code",
   "execution_count": 16,
   "id": "97541929-2b8b-43a4-9882-260351b76454",
   "metadata": {},
   "outputs": [],
   "source": [
    "#Unpivot"
   ]
  },
  {
   "cell_type": "code",
   "execution_count": 17,
   "id": "b2b17f18-541b-47ee-b8f7-44d6e76dd7e1",
   "metadata": {},
   "outputs": [],
   "source": [
    "df_un= df.reset_index().melt(id_vars='FEC_MEDICION', var_name='EVENTO', value_name='VAL')"
   ]
  },
  {
   "cell_type": "code",
   "execution_count": 18,
   "id": "faf86455-85aa-48a1-a000-0579b45cd2e8",
   "metadata": {},
   "outputs": [
    {
     "data": {
      "text/html": [
       "<div>\n",
       "<style scoped>\n",
       "    .dataframe tbody tr th:only-of-type {\n",
       "        vertical-align: middle;\n",
       "    }\n",
       "\n",
       "    .dataframe tbody tr th {\n",
       "        vertical-align: top;\n",
       "    }\n",
       "\n",
       "    .dataframe thead th {\n",
       "        text-align: right;\n",
       "    }\n",
       "</style>\n",
       "<table border=\"1\" class=\"dataframe\">\n",
       "  <thead>\n",
       "    <tr style=\"text-align: right;\">\n",
       "      <th></th>\n",
       "      <th>FEC_MEDICION</th>\n",
       "      <th>EVENTO</th>\n",
       "      <th>VAL</th>\n",
       "    </tr>\n",
       "  </thead>\n",
       "  <tbody>\n",
       "    <tr>\n",
       "      <th>0</th>\n",
       "      <td>2021-09-09</td>\n",
       "      <td>VAL_EVENTOS_FALLA_ENERGIA_COMERCIAL</td>\n",
       "      <td>0</td>\n",
       "    </tr>\n",
       "    <tr>\n",
       "      <th>1</th>\n",
       "      <td>2021-09-09</td>\n",
       "      <td>VAL_EVENTOS_FALLA_ENERGIA_COMERCIAL</td>\n",
       "      <td>0</td>\n",
       "    </tr>\n",
       "    <tr>\n",
       "      <th>2</th>\n",
       "      <td>2021-09-09</td>\n",
       "      <td>VAL_EVENTOS_FALLA_ENERGIA_COMERCIAL</td>\n",
       "      <td>0</td>\n",
       "    </tr>\n",
       "    <tr>\n",
       "      <th>3</th>\n",
       "      <td>2021-09-09</td>\n",
       "      <td>VAL_EVENTOS_FALLA_ENERGIA_COMERCIAL</td>\n",
       "      <td>0</td>\n",
       "    </tr>\n",
       "    <tr>\n",
       "      <th>4</th>\n",
       "      <td>2021-09-09</td>\n",
       "      <td>VAL_EVENTOS_FALLA_ENERGIA_COMERCIAL</td>\n",
       "      <td>0</td>\n",
       "    </tr>\n",
       "  </tbody>\n",
       "</table>\n",
       "</div>"
      ],
      "text/plain": [
       "  FEC_MEDICION                               EVENTO  VAL\n",
       "0   2021-09-09  VAL_EVENTOS_FALLA_ENERGIA_COMERCIAL    0\n",
       "1   2021-09-09  VAL_EVENTOS_FALLA_ENERGIA_COMERCIAL    0\n",
       "2   2021-09-09  VAL_EVENTOS_FALLA_ENERGIA_COMERCIAL    0\n",
       "3   2021-09-09  VAL_EVENTOS_FALLA_ENERGIA_COMERCIAL    0\n",
       "4   2021-09-09  VAL_EVENTOS_FALLA_ENERGIA_COMERCIAL    0"
      ]
     },
     "execution_count": 18,
     "metadata": {},
     "output_type": "execute_result"
    }
   ],
   "source": [
    "df_un.head()"
   ]
  },
  {
   "cell_type": "code",
   "execution_count": 19,
   "id": "2f6d245e-ca88-4415-bad3-448c2d6465f4",
   "metadata": {},
   "outputs": [],
   "source": [
    "dfTotales=df_un.groupby(['FEC_MEDICION','EVENTO']).sum()"
   ]
  },
  {
   "cell_type": "code",
   "execution_count": 20,
   "id": "04b6b110-f451-491c-b298-c0cb4db7d051",
   "metadata": {},
   "outputs": [],
   "source": [
    "dfTotales.reset_index(inplace=True)"
   ]
  },
  {
   "cell_type": "code",
   "execution_count": 68,
   "id": "a783c9b3-b9f5-4f1c-bd69-97fb032f6af9",
   "metadata": {},
   "outputs": [
    {
     "data": {
      "text/html": [
       "<div>\n",
       "<style scoped>\n",
       "    .dataframe tbody tr th:only-of-type {\n",
       "        vertical-align: middle;\n",
       "    }\n",
       "\n",
       "    .dataframe tbody tr th {\n",
       "        vertical-align: top;\n",
       "    }\n",
       "\n",
       "    .dataframe thead th {\n",
       "        text-align: right;\n",
       "    }\n",
       "</style>\n",
       "<table border=\"1\" class=\"dataframe\">\n",
       "  <thead>\n",
       "    <tr style=\"text-align: right;\">\n",
       "      <th></th>\n",
       "      <th>EVENTO</th>\n",
       "      <th>VAL</th>\n",
       "    </tr>\n",
       "    <tr>\n",
       "      <th>FEC_MEDICION</th>\n",
       "      <th></th>\n",
       "      <th></th>\n",
       "    </tr>\n",
       "  </thead>\n",
       "  <tbody>\n",
       "    <tr>\n",
       "      <th>2021-09-09</th>\n",
       "      <td>VAL_EVENTOS_BAJA_PRESION</td>\n",
       "      <td>0</td>\n",
       "    </tr>\n",
       "    <tr>\n",
       "      <th>2021-09-09</th>\n",
       "      <td>VAL_EVENTOS_FALLA_COMPRESOR</td>\n",
       "      <td>0</td>\n",
       "    </tr>\n",
       "    <tr>\n",
       "      <th>2021-09-09</th>\n",
       "      <td>VAL_EVENTOS_FALLA_ENERGIA_COMERCIAL</td>\n",
       "      <td>24</td>\n",
       "    </tr>\n",
       "    <tr>\n",
       "      <th>2021-09-09</th>\n",
       "      <td>VAL_EVENTOS_FALLA_MODULO_RECTIFICADOR</td>\n",
       "      <td>0</td>\n",
       "    </tr>\n",
       "    <tr>\n",
       "      <th>2021-09-09</th>\n",
       "      <td>VAL_EVENTOS_PLANTA_ELECTRICA_ENCENDIDA</td>\n",
       "      <td>3</td>\n",
       "    </tr>\n",
       "  </tbody>\n",
       "</table>\n",
       "</div>"
      ],
      "text/plain": [
       "                                              EVENTO  VAL\n",
       "FEC_MEDICION                                             \n",
       "2021-09-09                  VAL_EVENTOS_BAJA_PRESION    0\n",
       "2021-09-09               VAL_EVENTOS_FALLA_COMPRESOR    0\n",
       "2021-09-09       VAL_EVENTOS_FALLA_ENERGIA_COMERCIAL   24\n",
       "2021-09-09     VAL_EVENTOS_FALLA_MODULO_RECTIFICADOR    0\n",
       "2021-09-09    VAL_EVENTOS_PLANTA_ELECTRICA_ENCENDIDA    3"
      ]
     },
     "execution_count": 68,
     "metadata": {},
     "output_type": "execute_result"
    }
   ],
   "source": [
    "dfTotales.head()"
   ]
  },
  {
   "cell_type": "code",
   "execution_count": 22,
   "id": "b0813e1c-6204-46a1-90ad-64665f4eee94",
   "metadata": {},
   "outputs": [],
   "source": [
    "dfTotales.set_index('FEC_MEDICION',inplace=True)"
   ]
  },
  {
   "cell_type": "code",
   "execution_count": 73,
   "id": "283dfa7a-11d1-4ae6-a3a1-87863f39942c",
   "metadata": {},
   "outputs": [
    {
     "data": {
      "text/plain": [
       "Timestamp('2021-10-17 00:00:00')"
      ]
     },
     "execution_count": 73,
     "metadata": {},
     "output_type": "execute_result"
    }
   ],
   "source": [
    "maxFecha=dfTotales.index.max()\n",
    "maxFecha"
   ]
  },
  {
   "cell_type": "markdown",
   "id": "d6f09879",
   "metadata": {},
   "source": [
    "##  completar series dias dentro del rango"
   ]
  },
  {
   "cell_type": "code",
   "execution_count": 78,
   "id": "233f0c95",
   "metadata": {},
   "outputs": [
    {
     "data": {
      "text/plain": [
       "DatetimeIndex(['2021-09-10', '2021-09-11', '2021-09-12', '2021-09-13',\n",
       "               '2021-09-14', '2021-09-15', '2021-09-16', '2021-09-17',\n",
       "               '2021-09-18', '2021-09-19', '2021-09-20', '2021-09-21',\n",
       "               '2021-09-22', '2021-09-23', '2021-09-24', '2021-09-25',\n",
       "               '2021-09-26', '2021-09-27', '2021-09-28', '2021-09-29',\n",
       "               '2021-09-30', '2021-10-01', '2021-10-02', '2021-10-03',\n",
       "               '2021-10-04', '2021-10-05', '2021-10-06', '2021-10-07',\n",
       "               '2021-10-08', '2021-10-09', '2021-10-10', '2021-10-11',\n",
       "               '2021-10-12', '2021-10-13', '2021-10-14', '2021-10-15',\n",
       "               '2021-10-16', '2021-10-17'],\n",
       "              dtype='datetime64[ns]', name='FECHA', freq='D')"
      ]
     },
     "execution_count": 78,
     "metadata": {},
     "output_type": "execute_result"
    }
   ],
   "source": [
    "ind = pd.date_range(start=minFecha, end=maxFecha, freq ='D', name='FECHA')[1:]\n",
    "ind"
   ]
  },
  {
   "cell_type": "code",
   "execution_count": 85,
   "id": "edab16b7",
   "metadata": {},
   "outputs": [],
   "source": [
    "listEventos=dfTotales['EVENTO'].unique()"
   ]
  },
  {
   "cell_type": "code",
   "execution_count": 83,
   "id": "03f78d82",
   "metadata": {},
   "outputs": [],
   "source": [
    "dfTotalesCom=pd.DataFrame()"
   ]
  },
  {
   "cell_type": "code",
   "execution_count": 86,
   "id": "6fc00e59",
   "metadata": {},
   "outputs": [],
   "source": [
    "i=0\n",
    "for evento in listEventos:\n",
    "    aux=dfTotales[dfTotales['EVENTO']==evento]\n",
    "    aux=aux.reindex(ind, fill_value=0)\n",
    "    aux['EVENTO']=evento\n",
    "    if i==0:\n",
    "        dfTotalesCom=aux\n",
    "    else:\n",
    "        dfTotalesCom=dfTotalesCom.append(aux) \n",
    "    i=i+1"
   ]
  },
  {
   "cell_type": "code",
   "execution_count": 88,
   "id": "e660ca53",
   "metadata": {},
   "outputs": [
    {
     "data": {
      "text/html": [
       "<div>\n",
       "<style scoped>\n",
       "    .dataframe tbody tr th:only-of-type {\n",
       "        vertical-align: middle;\n",
       "    }\n",
       "\n",
       "    .dataframe tbody tr th {\n",
       "        vertical-align: top;\n",
       "    }\n",
       "\n",
       "    .dataframe thead th {\n",
       "        text-align: right;\n",
       "    }\n",
       "</style>\n",
       "<table border=\"1\" class=\"dataframe\">\n",
       "  <thead>\n",
       "    <tr style=\"text-align: right;\">\n",
       "      <th></th>\n",
       "      <th>EVENTO</th>\n",
       "      <th>VAL</th>\n",
       "    </tr>\n",
       "    <tr>\n",
       "      <th>FECHA</th>\n",
       "      <th></th>\n",
       "      <th></th>\n",
       "    </tr>\n",
       "  </thead>\n",
       "  <tbody>\n",
       "    <tr>\n",
       "      <th>2021-09-20</th>\n",
       "      <td>VAL_EVENTOS_FALLA_ENERGIA_COMERCIAL</td>\n",
       "      <td>3</td>\n",
       "    </tr>\n",
       "    <tr>\n",
       "      <th>2021-10-02</th>\n",
       "      <td>VAL_EVENTOS_FALLA_COMPRESOR</td>\n",
       "      <td>0</td>\n",
       "    </tr>\n",
       "    <tr>\n",
       "      <th>2021-09-12</th>\n",
       "      <td>VAL_EVENTOS_FALLA_MODULO_RECTIFICADOR</td>\n",
       "      <td>0</td>\n",
       "    </tr>\n",
       "    <tr>\n",
       "      <th>2021-09-28</th>\n",
       "      <td>VAL_EVENTOS_BAJA_PRESION</td>\n",
       "      <td>0</td>\n",
       "    </tr>\n",
       "    <tr>\n",
       "      <th>2021-09-10</th>\n",
       "      <td>VAL_EVENTOS_FALLA_MODULO_RECTIFICADOR</td>\n",
       "      <td>0</td>\n",
       "    </tr>\n",
       "    <tr>\n",
       "      <th>2021-09-29</th>\n",
       "      <td>VAL_EVENTOS_FALLA_MODULO_RECTIFICADOR</td>\n",
       "      <td>0</td>\n",
       "    </tr>\n",
       "    <tr>\n",
       "      <th>2021-09-11</th>\n",
       "      <td>VAL_EVENTOS_FALLA_MODULO_RECTIFICADOR</td>\n",
       "      <td>0</td>\n",
       "    </tr>\n",
       "    <tr>\n",
       "      <th>2021-10-13</th>\n",
       "      <td>VAL_EVENTOS_FALLA_COMPRESOR</td>\n",
       "      <td>0</td>\n",
       "    </tr>\n",
       "    <tr>\n",
       "      <th>2021-10-07</th>\n",
       "      <td>VAL_EVENTOS_PLANTA_ELECTRICA_ENCENDIDA</td>\n",
       "      <td>0</td>\n",
       "    </tr>\n",
       "    <tr>\n",
       "      <th>2021-09-23</th>\n",
       "      <td>VAL_EVENTOS_FALLA_ENERGIA_COMERCIAL</td>\n",
       "      <td>0</td>\n",
       "    </tr>\n",
       "  </tbody>\n",
       "</table>\n",
       "</div>"
      ],
      "text/plain": [
       "                                            EVENTO  VAL\n",
       "FECHA                                                  \n",
       "2021-09-20     VAL_EVENTOS_FALLA_ENERGIA_COMERCIAL    3\n",
       "2021-10-02             VAL_EVENTOS_FALLA_COMPRESOR    0\n",
       "2021-09-12   VAL_EVENTOS_FALLA_MODULO_RECTIFICADOR    0\n",
       "2021-09-28                VAL_EVENTOS_BAJA_PRESION    0\n",
       "2021-09-10   VAL_EVENTOS_FALLA_MODULO_RECTIFICADOR    0\n",
       "2021-09-29   VAL_EVENTOS_FALLA_MODULO_RECTIFICADOR    0\n",
       "2021-09-11   VAL_EVENTOS_FALLA_MODULO_RECTIFICADOR    0\n",
       "2021-10-13             VAL_EVENTOS_FALLA_COMPRESOR    0\n",
       "2021-10-07  VAL_EVENTOS_PLANTA_ELECTRICA_ENCENDIDA    0\n",
       "2021-09-23     VAL_EVENTOS_FALLA_ENERGIA_COMERCIAL    0"
      ]
     },
     "execution_count": 88,
     "metadata": {},
     "output_type": "execute_result"
    }
   ],
   "source": [
    "dfTotalesCom.sample(10)"
   ]
  },
  {
   "cell_type": "code",
   "execution_count": 87,
   "id": "3bbeb284",
   "metadata": {},
   "outputs": [
    {
     "data": {
      "text/plain": [
       "\"aux=dfTotales[dfTotales['EVENTO']=='VAL_EVENTOS_BAJA_PRESION']\\naux=aux.reindex(ind, fill_value=0)\\naux['EVENTO']='VAL_EVENTOS_BAJA_PRESION'\\naux\""
      ]
     },
     "execution_count": 87,
     "metadata": {},
     "output_type": "execute_result"
    }
   ],
   "source": [
    "\"\"\"aux=dfTotales[dfTotales['EVENTO']=='VAL_EVENTOS_BAJA_PRESION']\n",
    "aux=aux.reindex(ind, fill_value=0)\n",
    "aux['EVENTO']='VAL_EVENTOS_BAJA_PRESION'\n",
    "aux\"\"\""
   ]
  },
  {
   "cell_type": "markdown",
   "id": "01cd3579",
   "metadata": {},
   "source": [
    "##  Separación Entrenamiento y testing"
   ]
  },
  {
   "cell_type": "code",
   "execution_count": 89,
   "id": "4504a273",
   "metadata": {},
   "outputs": [
    {
     "data": {
      "text/plain": [
       "Timestamp('2021-10-17 00:00:00')"
      ]
     },
     "execution_count": 89,
     "metadata": {},
     "output_type": "execute_result"
    }
   ],
   "source": [
    "fechaMaxima=max(dfTotalesCom.index)\n",
    "fechaMaxima"
   ]
  },
  {
   "cell_type": "code",
   "execution_count": 90,
   "id": "08dd9d0c",
   "metadata": {},
   "outputs": [
    {
     "data": {
      "text/plain": [
       "Timestamp('2021-10-14 00:00:00')"
      ]
     },
     "execution_count": 90,
     "metadata": {},
     "output_type": "execute_result"
    }
   ],
   "source": [
    "dfTotalesCom.index.unique()[-4]"
   ]
  },
  {
   "cell_type": "code",
   "execution_count": 110,
   "id": "a9065ce1",
   "metadata": {},
   "outputs": [],
   "source": [
    "fechaTrain=dfTotalesCom.index.unique()[-9]\n",
    "fechaTest=dfTotalesCom.index.unique()[-8]"
   ]
  },
  {
   "cell_type": "code",
   "execution_count": 111,
   "id": "458651d2",
   "metadata": {},
   "outputs": [
    {
     "name": "stdout",
     "output_type": "stream",
     "text": [
      "2021-10-09 00:00:00 2021-10-10 00:00:00\n"
     ]
    }
   ],
   "source": [
    "print (fechaTrain,fechaTest)"
   ]
  },
  {
   "cell_type": "code",
   "execution_count": 112,
   "id": "e52f1923",
   "metadata": {},
   "outputs": [],
   "source": [
    "# quitar temporalmente VAL_EVENTOS_ALTA_PRESION\n",
    "dfTotalesCom=dfTotalesCom[dfTotalesCom['EVENTO']!='VAL_EVENTOS_ALTA_PRESION']"
   ]
  },
  {
   "cell_type": "code",
   "execution_count": 113,
   "id": "bd021d02",
   "metadata": {},
   "outputs": [],
   "source": [
    "TablaTrain=dfTotalesCom[dfTotalesCom.index <= fechaTrain]\n",
    "TablaTest=dfTotalesCom[dfTotalesCom.index >= fechaTest]"
   ]
  },
  {
   "cell_type": "markdown",
   "id": "fc8e9e3c",
   "metadata": {},
   "source": [
    "### Indices Entrenamiento"
   ]
  },
  {
   "cell_type": "code",
   "execution_count": 114,
   "id": "e57c67fe",
   "metadata": {},
   "outputs": [
    {
     "data": {
      "text/plain": [
       "DatetimeIndex(['2021-10-10', '2021-10-11', '2021-10-12', '2021-10-13',\n",
       "               '2021-10-14', '2021-10-15', '2021-10-16', '2021-10-17'],\n",
       "              dtype='datetime64[ns]', name='FECHA', freq='D')"
      ]
     },
     "execution_count": 114,
     "metadata": {},
     "output_type": "execute_result"
    }
   ],
   "source": [
    "ind = pd.date_range(TablaTrain.index.max(), periods = 9, freq ='D', name='FECHA')[1:]\n",
    "ind"
   ]
  },
  {
   "cell_type": "code",
   "execution_count": 115,
   "id": "20996a1c",
   "metadata": {},
   "outputs": [
    {
     "data": {
      "text/plain": [
       "Timestamp('2021-10-17 00:00:00')"
      ]
     },
     "execution_count": 115,
     "metadata": {},
     "output_type": "execute_result"
    }
   ],
   "source": [
    "dfTotalesCom.index.max()"
   ]
  },
  {
   "cell_type": "code",
   "execution_count": 116,
   "id": "e812a2a2-c349-4ddc-b66a-b265fa729cd7",
   "metadata": {},
   "outputs": [
    {
     "data": {
      "text/plain": [
       "190"
      ]
     },
     "execution_count": 116,
     "metadata": {},
     "output_type": "execute_result"
    }
   ],
   "source": [
    "len(dfTotalesCom)"
   ]
  },
  {
   "cell_type": "code",
   "execution_count": 117,
   "id": "d2bf7f04-1025-494d-b5c8-9e48aabc3e6c",
   "metadata": {},
   "outputs": [
    {
     "data": {
      "text/plain": [
       "EVENTO     5\n",
       "VAL       27\n",
       "dtype: int64"
      ]
     },
     "execution_count": 117,
     "metadata": {},
     "output_type": "execute_result"
    }
   ],
   "source": [
    "dfTotalesCom.nunique()"
   ]
  },
  {
   "cell_type": "code",
   "execution_count": 118,
   "id": "1ad7ec94-3a71-4b7d-bafc-64c3dfd144df",
   "metadata": {},
   "outputs": [
    {
     "data": {
      "text/plain": [
       "EVENTO    0\n",
       "VAL       0\n",
       "dtype: int64"
      ]
     },
     "execution_count": 118,
     "metadata": {},
     "output_type": "execute_result"
    }
   ],
   "source": [
    "dfTotalesCom.isnull().sum()"
   ]
  },
  {
   "cell_type": "code",
   "execution_count": 119,
   "id": "39318a51",
   "metadata": {},
   "outputs": [
    {
     "data": {
      "text/html": [
       "<div>\n",
       "<style scoped>\n",
       "    .dataframe tbody tr th:only-of-type {\n",
       "        vertical-align: middle;\n",
       "    }\n",
       "\n",
       "    .dataframe tbody tr th {\n",
       "        vertical-align: top;\n",
       "    }\n",
       "\n",
       "    .dataframe thead th {\n",
       "        text-align: right;\n",
       "    }\n",
       "</style>\n",
       "<table border=\"1\" class=\"dataframe\">\n",
       "  <thead>\n",
       "    <tr style=\"text-align: right;\">\n",
       "      <th></th>\n",
       "      <th>EVENTO</th>\n",
       "      <th>VAL</th>\n",
       "    </tr>\n",
       "    <tr>\n",
       "      <th>FECHA</th>\n",
       "      <th></th>\n",
       "      <th></th>\n",
       "    </tr>\n",
       "  </thead>\n",
       "  <tbody>\n",
       "    <tr>\n",
       "      <th>2021-09-10</th>\n",
       "      <td>VAL_EVENTOS_BAJA_PRESION</td>\n",
       "      <td>0</td>\n",
       "    </tr>\n",
       "    <tr>\n",
       "      <th>2021-09-11</th>\n",
       "      <td>VAL_EVENTOS_BAJA_PRESION</td>\n",
       "      <td>1</td>\n",
       "    </tr>\n",
       "    <tr>\n",
       "      <th>2021-09-12</th>\n",
       "      <td>VAL_EVENTOS_BAJA_PRESION</td>\n",
       "      <td>0</td>\n",
       "    </tr>\n",
       "  </tbody>\n",
       "</table>\n",
       "</div>"
      ],
      "text/plain": [
       "                              EVENTO  VAL\n",
       "FECHA                                    \n",
       "2021-09-10  VAL_EVENTOS_BAJA_PRESION    0\n",
       "2021-09-11  VAL_EVENTOS_BAJA_PRESION    1\n",
       "2021-09-12  VAL_EVENTOS_BAJA_PRESION    0"
      ]
     },
     "execution_count": 119,
     "metadata": {},
     "output_type": "execute_result"
    }
   ],
   "source": [
    "dfTotalesCom.head(3)"
   ]
  },
  {
   "cell_type": "markdown",
   "id": "a69262ae",
   "metadata": {},
   "source": [
    "## Predicciones"
   ]
  },
  {
   "cell_type": "code",
   "execution_count": 171,
   "id": "d021834c-fb81-4f61-b8ac-d6b0fbaa27c9",
   "metadata": {},
   "outputs": [],
   "source": [
    "numeroNodos=6\n",
    "periodosPred=8"
   ]
  },
  {
   "cell_type": "code",
   "execution_count": 172,
   "id": "f7138ac5",
   "metadata": {},
   "outputs": [],
   "source": [
    "final = pd.DataFrame()\n",
    "finalErrores = {}\n",
    "grouped =TablaTrain[['EVENTO','VAL']].groupby('EVENTO')\n",
    "groupedTest =TablaTest[['EVENTO','VAL']].groupby('EVENTO')\n",
    "#groupedFinal=TablaFinal[['Nodo','Value','MARCACIONES']].groupby('Nodo')"
   ]
  },
  {
   "cell_type": "code",
   "execution_count": 173,
   "id": "cbdbf1fe-899a-46ec-aa16-4b09591d970d",
   "metadata": {},
   "outputs": [
    {
     "data": {
      "text/html": [
       "<div>\n",
       "<style scoped>\n",
       "    .dataframe tbody tr th:only-of-type {\n",
       "        vertical-align: middle;\n",
       "    }\n",
       "\n",
       "    .dataframe tbody tr th {\n",
       "        vertical-align: top;\n",
       "    }\n",
       "\n",
       "    .dataframe thead th {\n",
       "        text-align: right;\n",
       "    }\n",
       "</style>\n",
       "<table border=\"1\" class=\"dataframe\">\n",
       "  <thead>\n",
       "    <tr style=\"text-align: right;\">\n",
       "      <th></th>\n",
       "      <th>EVENTO</th>\n",
       "      <th>VAL</th>\n",
       "    </tr>\n",
       "    <tr>\n",
       "      <th>FECHA</th>\n",
       "      <th></th>\n",
       "      <th></th>\n",
       "    </tr>\n",
       "  </thead>\n",
       "  <tbody>\n",
       "    <tr>\n",
       "      <th>2021-10-10</th>\n",
       "      <td>VAL_EVENTOS_BAJA_PRESION</td>\n",
       "      <td>0</td>\n",
       "    </tr>\n",
       "    <tr>\n",
       "      <th>2021-10-11</th>\n",
       "      <td>VAL_EVENTOS_BAJA_PRESION</td>\n",
       "      <td>0</td>\n",
       "    </tr>\n",
       "    <tr>\n",
       "      <th>2021-10-12</th>\n",
       "      <td>VAL_EVENTOS_BAJA_PRESION</td>\n",
       "      <td>0</td>\n",
       "    </tr>\n",
       "    <tr>\n",
       "      <th>2021-10-13</th>\n",
       "      <td>VAL_EVENTOS_BAJA_PRESION</td>\n",
       "      <td>0</td>\n",
       "    </tr>\n",
       "    <tr>\n",
       "      <th>2021-10-14</th>\n",
       "      <td>VAL_EVENTOS_BAJA_PRESION</td>\n",
       "      <td>1</td>\n",
       "    </tr>\n",
       "    <tr>\n",
       "      <th>2021-10-15</th>\n",
       "      <td>VAL_EVENTOS_BAJA_PRESION</td>\n",
       "      <td>0</td>\n",
       "    </tr>\n",
       "    <tr>\n",
       "      <th>2021-10-16</th>\n",
       "      <td>VAL_EVENTOS_BAJA_PRESION</td>\n",
       "      <td>0</td>\n",
       "    </tr>\n",
       "    <tr>\n",
       "      <th>2021-10-17</th>\n",
       "      <td>VAL_EVENTOS_BAJA_PRESION</td>\n",
       "      <td>0</td>\n",
       "    </tr>\n",
       "  </tbody>\n",
       "</table>\n",
       "</div>"
      ],
      "text/plain": [
       "                              EVENTO  VAL\n",
       "FECHA                                    \n",
       "2021-10-10  VAL_EVENTOS_BAJA_PRESION    0\n",
       "2021-10-11  VAL_EVENTOS_BAJA_PRESION    0\n",
       "2021-10-12  VAL_EVENTOS_BAJA_PRESION    0\n",
       "2021-10-13  VAL_EVENTOS_BAJA_PRESION    0\n",
       "2021-10-14  VAL_EVENTOS_BAJA_PRESION    1\n",
       "2021-10-15  VAL_EVENTOS_BAJA_PRESION    0\n",
       "2021-10-16  VAL_EVENTOS_BAJA_PRESION    0\n",
       "2021-10-17  VAL_EVENTOS_BAJA_PRESION    0"
      ]
     },
     "execution_count": 173,
     "metadata": {},
     "output_type": "execute_result"
    }
   ],
   "source": [
    "p=groupedTest.get_group('VAL_EVENTOS_BAJA_PRESION')\n",
    "p"
   ]
  },
  {
   "cell_type": "code",
   "execution_count": 174,
   "id": "17b64ef5-6bd9-403d-a2ca-6fd98dca65a1",
   "metadata": {},
   "outputs": [],
   "source": [
    "idx = pd.date_range('10-09-2021', '09-10-2021')"
   ]
  },
  {
   "cell_type": "code",
   "execution_count": 175,
   "id": "3ef64788",
   "metadata": {},
   "outputs": [],
   "source": [
    "metodos=['ARIMA','ES','HOLT','ES_ajTend']"
   ]
  },
  {
   "cell_type": "code",
   "execution_count": 176,
   "id": "0628215f-db8e-47c5-8c18-f650043b3f4c",
   "metadata": {},
   "outputs": [],
   "source": [
    "## VAL ES"
   ]
  },
  {
   "cell_type": "code",
   "execution_count": 177,
   "id": "fa502880",
   "metadata": {
    "scrolled": true,
    "tags": []
   },
   "outputs": [
    {
     "name": "stdout",
     "output_type": "stream",
     "text": [
      "VAL_EVENTOS_BAJA_PRESION\n",
      "0.0\n",
      "VAL_EVENTOS_FALLA_COMPRESOR\n",
      "VAL_EVENTOS_FALLA_ENERGIA_COMERCIAL\n",
      "VAL_EVENTOS_FALLA_MODULO_RECTIFICADOR\n",
      "VAL_EVENTOS_PLANTA_ELECTRICA_ENCENDIDA\n"
     ]
    }
   ],
   "source": [
    "i=0\n",
    "for g in grouped.groups:\n",
    "    print(g)\n",
    "    if i>numeroNodos*len(metodos):\n",
    "        continue\n",
    "    if i/len(metodos)%10==0:\n",
    "        print(i/len(metodos))    \n",
    "    dicNodo={} \n",
    "    dicAuxMetodo={}\n",
    "    group = grouped.get_group(g) \n",
    "    groupTest = groupedTest.get_group(g) \n",
    "    for metodo in metodos:\n",
    "        if metodo== 'ARIMA':\n",
    "            model=auto_arima(group['VAL'],trace=False)\n",
    "            model.fit(group['VAL'])  \n",
    "            forecast=pd.DataFrame(model.predict(n_periods = periodosPred),index=ind)\n",
    "        elif metodo== 'ES':\n",
    "            model = SimpleExpSmoothing(group['VAL'])\n",
    "            model=model.fit(smoothing_level=.05)\n",
    "            forecast=pd.DataFrame(model.forecast(periodosPred),index=ind)\n",
    "        elif metodo== 'HOLT':\n",
    "            model = Holt(group['VAL']) \n",
    "            model = model.fit(optimized=True)\n",
    "            forecast=pd.DataFrame(model.forecast(periodosPred),index=ind)\n",
    "        elif metodo== 'ES_ajTend':\n",
    "            model = ExponentialSmoothing(group['VAL'],trend='add', seasonal=None, damped=True)\n",
    "            model= model.fit()\n",
    "            forecast=pd.DataFrame(model.forecast(periodosPred),index=ind)        \n",
    "        forecast.columns = ['pred']  \n",
    "        forecast['EVENTO']=g\n",
    "        forecast['Metodo']=metodo\n",
    "        #print(forecast)\n",
    "        #print(groupTest['VAL'])\n",
    "        if i==0:\n",
    "            final=forecast\n",
    "        else:\n",
    "            final=final.append(forecast)     \n",
    "        # Errores\n",
    "        ## Medicion varios errores, seleccionar el que mejor se ajuste\n",
    "        RMSE=mean_squared_error(groupTest['VAL'],forecast['pred'], squared=False)\n",
    "        MAPE=mean_absolute_percentage_error(groupTest['VAL'],forecast['pred'])    \n",
    "        dicNodo[metodo]=RMSE  \n",
    "        i=i+1\n",
    "    finalErrores[g]=dicNodo\n",
    "    "
   ]
  },
  {
   "cell_type": "markdown",
   "id": "a98916a0-4fa5-445f-a46e-1e30ed0015d0",
   "metadata": {},
   "source": [
    "* Velocidad de procesamiento:  200 Nodos x Minuto"
   ]
  },
  {
   "cell_type": "code",
   "execution_count": 178,
   "id": "72e6b54f",
   "metadata": {
    "scrolled": true
   },
   "outputs": [
    {
     "data": {
      "text/html": [
       "<div>\n",
       "<style scoped>\n",
       "    .dataframe tbody tr th:only-of-type {\n",
       "        vertical-align: middle;\n",
       "    }\n",
       "\n",
       "    .dataframe tbody tr th {\n",
       "        vertical-align: top;\n",
       "    }\n",
       "\n",
       "    .dataframe thead th {\n",
       "        text-align: right;\n",
       "    }\n",
       "</style>\n",
       "<table border=\"1\" class=\"dataframe\">\n",
       "  <thead>\n",
       "    <tr style=\"text-align: right;\">\n",
       "      <th></th>\n",
       "      <th>pred</th>\n",
       "      <th>EVENTO</th>\n",
       "      <th>Metodo</th>\n",
       "    </tr>\n",
       "    <tr>\n",
       "      <th>FECHA</th>\n",
       "      <th></th>\n",
       "      <th></th>\n",
       "      <th></th>\n",
       "    </tr>\n",
       "  </thead>\n",
       "  <tbody>\n",
       "  </tbody>\n",
       "</table>\n",
       "</div>"
      ],
      "text/plain": [
       "Empty DataFrame\n",
       "Columns: [pred, EVENTO, Metodo]\n",
       "Index: []"
      ]
     },
     "execution_count": 178,
     "metadata": {},
     "output_type": "execute_result"
    }
   ],
   "source": [
    "final[final['Metodo']=='ARIMAX2'].head(10)"
   ]
  },
  {
   "cell_type": "code",
   "execution_count": 179,
   "id": "1b9a06be",
   "metadata": {},
   "outputs": [
    {
     "data": {
      "text/plain": [
       "pred      0\n",
       "EVENTO    0\n",
       "Metodo    0\n",
       "dtype: int64"
      ]
     },
     "execution_count": 179,
     "metadata": {},
     "output_type": "execute_result"
    }
   ],
   "source": [
    "final.isnull().sum()"
   ]
  },
  {
   "cell_type": "markdown",
   "id": "a2ccc925-9d45-4a8f-a5af-c4a586a04f93",
   "metadata": {},
   "source": [
    "* No tiene nullos"
   ]
  },
  {
   "cell_type": "markdown",
   "id": "7c5a51a1",
   "metadata": {},
   "source": [
    "## Selección mejor método por Nodo"
   ]
  },
  {
   "cell_type": "code",
   "execution_count": 180,
   "id": "99f69af4",
   "metadata": {},
   "outputs": [
    {
     "data": {
      "text/plain": [
       "['ARIMA', 'ES', 'HOLT', 'ES_ajTend']"
      ]
     },
     "execution_count": 180,
     "metadata": {},
     "output_type": "execute_result"
    }
   ],
   "source": [
    "metodos"
   ]
  },
  {
   "cell_type": "code",
   "execution_count": 181,
   "id": "419c726d",
   "metadata": {},
   "outputs": [
    {
     "data": {
      "text/html": [
       "<div>\n",
       "<style scoped>\n",
       "    .dataframe tbody tr th:only-of-type {\n",
       "        vertical-align: middle;\n",
       "    }\n",
       "\n",
       "    .dataframe tbody tr th {\n",
       "        vertical-align: top;\n",
       "    }\n",
       "\n",
       "    .dataframe thead th {\n",
       "        text-align: right;\n",
       "    }\n",
       "</style>\n",
       "<table border=\"1\" class=\"dataframe\">\n",
       "  <thead>\n",
       "    <tr style=\"text-align: right;\">\n",
       "      <th></th>\n",
       "      <th>ARIMA</th>\n",
       "      <th>ES</th>\n",
       "      <th>HOLT</th>\n",
       "      <th>ES_ajTend</th>\n",
       "    </tr>\n",
       "  </thead>\n",
       "  <tbody>\n",
       "    <tr>\n",
       "      <th>VAL_EVENTOS_BAJA_PRESION</th>\n",
       "      <td>0.332</td>\n",
       "      <td>0.334</td>\n",
       "      <td>0.379</td>\n",
       "      <td>0.376</td>\n",
       "    </tr>\n",
       "    <tr>\n",
       "      <th>VAL_EVENTOS_FALLA_COMPRESOR</th>\n",
       "      <td>0.037</td>\n",
       "      <td>0.345</td>\n",
       "      <td>0.688</td>\n",
       "      <td>0.039</td>\n",
       "    </tr>\n",
       "    <tr>\n",
       "      <th>VAL_EVENTOS_FALLA_ENERGIA_COMERCIAL</th>\n",
       "      <td>17.440</td>\n",
       "      <td>16.853</td>\n",
       "      <td>13.962</td>\n",
       "      <td>14.120</td>\n",
       "    </tr>\n",
       "    <tr>\n",
       "      <th>VAL_EVENTOS_FALLA_MODULO_RECTIFICADOR</th>\n",
       "      <td>2.667</td>\n",
       "      <td>2.183</td>\n",
       "      <td>0.331</td>\n",
       "      <td>0.318</td>\n",
       "    </tr>\n",
       "    <tr>\n",
       "      <th>VAL_EVENTOS_PLANTA_ELECTRICA_ENCENDIDA</th>\n",
       "      <td>0.600</td>\n",
       "      <td>0.566</td>\n",
       "      <td>0.457</td>\n",
       "      <td>0.469</td>\n",
       "    </tr>\n",
       "  </tbody>\n",
       "</table>\n",
       "</div>"
      ],
      "text/plain": [
       "                                        ARIMA     ES   HOLT  ES_ajTend\n",
       "VAL_EVENTOS_BAJA_PRESION                0.332  0.334  0.379      0.376\n",
       "VAL_EVENTOS_FALLA_COMPRESOR             0.037  0.345  0.688      0.039\n",
       "VAL_EVENTOS_FALLA_ENERGIA_COMERCIAL    17.440 16.853 13.962     14.120\n",
       "VAL_EVENTOS_FALLA_MODULO_RECTIFICADOR   2.667  2.183  0.331      0.318\n",
       "VAL_EVENTOS_PLANTA_ELECTRICA_ENCENDIDA  0.600  0.566  0.457      0.469"
      ]
     },
     "execution_count": 181,
     "metadata": {},
     "output_type": "execute_result"
    }
   ],
   "source": [
    "dfFinalErrores=pd.DataFrame.from_dict(finalErrores,orient='index')\n",
    "dfFinalErrores.head(10)"
   ]
  },
  {
   "cell_type": "code",
   "execution_count": 182,
   "id": "5dfc9483",
   "metadata": {},
   "outputs": [
    {
     "data": {
      "text/plain": [
       "[0.33166247903554,\n",
       " 0.03656116555171227,\n",
       " 13.962224439732832,\n",
       " 0.3175343456983414,\n",
       " 0.4568911089474827]"
      ]
     },
     "execution_count": 182,
     "metadata": {},
     "output_type": "execute_result"
    }
   ],
   "source": [
    "minError=list(dfFinalErrores.min(axis=1).values)\n",
    "minError[:10]"
   ]
  },
  {
   "cell_type": "code",
   "execution_count": 183,
   "id": "2dc7103d",
   "metadata": {},
   "outputs": [],
   "source": [
    "modeloSeleccionado=[np.nan]*len(dfFinalErrores)\n",
    "i=0\n",
    "for indx,row in dfFinalErrores.iterrows():\n",
    "    auxRow=list(row.values)\n",
    "    auxInd=auxRow.index(minError[i])\n",
    "    modeloSeleccionado[i]=metodos[auxInd]\n",
    "    #print(auxRow)\n",
    "    i=i+1"
   ]
  },
  {
   "cell_type": "code",
   "execution_count": 184,
   "id": "cafb2632",
   "metadata": {},
   "outputs": [
    {
     "data": {
      "text/plain": [
       "['ARIMA', 'ARIMA', 'HOLT', 'ES_ajTend', 'HOLT']"
      ]
     },
     "execution_count": 184,
     "metadata": {},
     "output_type": "execute_result"
    }
   ],
   "source": [
    "modeloSeleccionado[:10]"
   ]
  },
  {
   "cell_type": "code",
   "execution_count": 185,
   "id": "d7c256d1",
   "metadata": {},
   "outputs": [],
   "source": [
    "dfFinalErrores['seleccion']=modeloSeleccionado"
   ]
  },
  {
   "cell_type": "code",
   "execution_count": 186,
   "id": "61efe30f-0c28-42fe-acbe-f56416c2d192",
   "metadata": {},
   "outputs": [],
   "source": [
    "dfFinalErrores['errorMin']=minError"
   ]
  },
  {
   "cell_type": "code",
   "execution_count": 187,
   "id": "db47e9f5",
   "metadata": {},
   "outputs": [
    {
     "data": {
      "text/html": [
       "<div>\n",
       "<style scoped>\n",
       "    .dataframe tbody tr th:only-of-type {\n",
       "        vertical-align: middle;\n",
       "    }\n",
       "\n",
       "    .dataframe tbody tr th {\n",
       "        vertical-align: top;\n",
       "    }\n",
       "\n",
       "    .dataframe thead th {\n",
       "        text-align: right;\n",
       "    }\n",
       "</style>\n",
       "<table border=\"1\" class=\"dataframe\">\n",
       "  <thead>\n",
       "    <tr style=\"text-align: right;\">\n",
       "      <th></th>\n",
       "      <th>ARIMA</th>\n",
       "      <th>ES</th>\n",
       "      <th>HOLT</th>\n",
       "      <th>ES_ajTend</th>\n",
       "      <th>seleccion</th>\n",
       "      <th>errorMin</th>\n",
       "    </tr>\n",
       "  </thead>\n",
       "  <tbody>\n",
       "    <tr>\n",
       "      <th>VAL_EVENTOS_BAJA_PRESION</th>\n",
       "      <td>0.332</td>\n",
       "      <td>0.334</td>\n",
       "      <td>0.379</td>\n",
       "      <td>0.376</td>\n",
       "      <td>ARIMA</td>\n",
       "      <td>0.332</td>\n",
       "    </tr>\n",
       "    <tr>\n",
       "      <th>VAL_EVENTOS_FALLA_COMPRESOR</th>\n",
       "      <td>0.037</td>\n",
       "      <td>0.345</td>\n",
       "      <td>0.688</td>\n",
       "      <td>0.039</td>\n",
       "      <td>ARIMA</td>\n",
       "      <td>0.037</td>\n",
       "    </tr>\n",
       "    <tr>\n",
       "      <th>VAL_EVENTOS_FALLA_ENERGIA_COMERCIAL</th>\n",
       "      <td>17.440</td>\n",
       "      <td>16.853</td>\n",
       "      <td>13.962</td>\n",
       "      <td>14.120</td>\n",
       "      <td>HOLT</td>\n",
       "      <td>13.962</td>\n",
       "    </tr>\n",
       "    <tr>\n",
       "      <th>VAL_EVENTOS_FALLA_MODULO_RECTIFICADOR</th>\n",
       "      <td>2.667</td>\n",
       "      <td>2.183</td>\n",
       "      <td>0.331</td>\n",
       "      <td>0.318</td>\n",
       "      <td>ES_ajTend</td>\n",
       "      <td>0.318</td>\n",
       "    </tr>\n",
       "    <tr>\n",
       "      <th>VAL_EVENTOS_PLANTA_ELECTRICA_ENCENDIDA</th>\n",
       "      <td>0.600</td>\n",
       "      <td>0.566</td>\n",
       "      <td>0.457</td>\n",
       "      <td>0.469</td>\n",
       "      <td>HOLT</td>\n",
       "      <td>0.457</td>\n",
       "    </tr>\n",
       "  </tbody>\n",
       "</table>\n",
       "</div>"
      ],
      "text/plain": [
       "                                        ARIMA     ES   HOLT  ES_ajTend  \\\n",
       "VAL_EVENTOS_BAJA_PRESION                0.332  0.334  0.379      0.376   \n",
       "VAL_EVENTOS_FALLA_COMPRESOR             0.037  0.345  0.688      0.039   \n",
       "VAL_EVENTOS_FALLA_ENERGIA_COMERCIAL    17.440 16.853 13.962     14.120   \n",
       "VAL_EVENTOS_FALLA_MODULO_RECTIFICADOR   2.667  2.183  0.331      0.318   \n",
       "VAL_EVENTOS_PLANTA_ELECTRICA_ENCENDIDA  0.600  0.566  0.457      0.469   \n",
       "\n",
       "                                        seleccion  errorMin  \n",
       "VAL_EVENTOS_BAJA_PRESION                    ARIMA     0.332  \n",
       "VAL_EVENTOS_FALLA_COMPRESOR                 ARIMA     0.037  \n",
       "VAL_EVENTOS_FALLA_ENERGIA_COMERCIAL          HOLT    13.962  \n",
       "VAL_EVENTOS_FALLA_MODULO_RECTIFICADOR   ES_ajTend     0.318  \n",
       "VAL_EVENTOS_PLANTA_ELECTRICA_ENCENDIDA       HOLT     0.457  "
      ]
     },
     "execution_count": 187,
     "metadata": {},
     "output_type": "execute_result"
    }
   ],
   "source": [
    "dfFinalErrores.head(10)"
   ]
  },
  {
   "cell_type": "code",
   "execution_count": 188,
   "id": "24bbab35-dfdd-4b16-a883-e1943a36351a",
   "metadata": {},
   "outputs": [
    {
     "data": {
      "text/plain": [
       "ARIMA        2\n",
       "HOLT         2\n",
       "ES_ajTend    1\n",
       "Name: seleccion, dtype: int64"
      ]
     },
     "execution_count": 188,
     "metadata": {},
     "output_type": "execute_result"
    }
   ],
   "source": [
    "dfFinalErrores['seleccion'].value_counts()"
   ]
  },
  {
   "cell_type": "markdown",
   "id": "73de2e8a",
   "metadata": {},
   "source": [
    "## Predicción Final"
   ]
  },
  {
   "cell_type": "code",
   "execution_count": 189,
   "id": "908f0a15",
   "metadata": {},
   "outputs": [
    {
     "data": {
      "text/plain": [
       "DatetimeIndex(['2021-10-18', '2021-10-19', '2021-10-20', '2021-10-21',\n",
       "               '2021-10-22', '2021-10-23', '2021-10-24', '2021-10-25'],\n",
       "              dtype='datetime64[ns]', name='FECHA', freq='D')"
      ]
     },
     "execution_count": 189,
     "metadata": {},
     "output_type": "execute_result"
    }
   ],
   "source": [
    "#ind_P = pd.date_range(fechaMaxima, periods = 4, freq ='MS', name='FECHA')[1:]\n",
    "ind_P= pd.date_range(maxFecha, periods = 9, freq ='D', name='FECHA')[1:]\n",
    "ind_P"
   ]
  },
  {
   "cell_type": "code",
   "execution_count": 190,
   "id": "80afcdce",
   "metadata": {},
   "outputs": [],
   "source": [
    "finalPrediccionesFuturas = pd.DataFrame()\n",
    "#groupedPred =dfTotalesCom[['Nodo','Value','MARCACIONES']].groupby('Nodo')\n",
    "groupedPred=dfTotalesCom[['EVENTO','VAL']].groupby('EVENTO')"
   ]
  },
  {
   "cell_type": "code",
   "execution_count": 191,
   "id": "cb4db24a-c02a-4e19-b909-2d7899c2f2e8",
   "metadata": {},
   "outputs": [
    {
     "data": {
      "text/plain": [
       "[4, 5, 6]"
      ]
     },
     "execution_count": 191,
     "metadata": {},
     "output_type": "execute_result"
    }
   ],
   "source": [
    "p=[1,2,3,4,5,6]\n",
    "#np.tile(p,3)\n",
    "p[-3:]\n",
    "#p.reshape(-1,1)"
   ]
  },
  {
   "cell_type": "code",
   "execution_count": 192,
   "id": "5c0cbb13",
   "metadata": {
    "tags": []
   },
   "outputs": [
    {
     "name": "stdout",
     "output_type": "stream",
     "text": [
      "0\n"
     ]
    }
   ],
   "source": [
    "i=0\n",
    "for g in groupedPred.groups:\n",
    "    if i>numeroNodos:\n",
    "        continue\n",
    "    if i%10==0:\n",
    "        print(i)    \n",
    "    group = groupedPred.get_group(g)        \n",
    "    mejorMetodo=dfFinalErrores.loc[g,'seleccion']\n",
    "    #print(mejorMetodo)\n",
    "    #metodo=dicMetodos[g][mejorMetodo]\n",
    "    #forecast=model.predict(group['Value'])\n",
    "    if mejorMetodo== 'ARIMA':\n",
    "        model=auto_arima(group['VAL'],trace=False)\n",
    "        model.fit(group['VAL'])  \n",
    "        forecast=pd.DataFrame(model.predict(n_periods = periodosPred),index=ind_P)\n",
    "    elif mejorMetodo== 'ES':\n",
    "        model = SimpleExpSmoothing(group['VAL'])\n",
    "        model=model.fit(smoothing_level=.5)\n",
    "        forecast=pd.DataFrame(model.forecast(periodosPred),index=ind_P)\n",
    "    elif mejorMetodo== 'HOLT':\n",
    "        model = Holt(group['VAL']) \n",
    "        model = model.fit(optimized=True)\n",
    "        forecast=pd.DataFrame(model.forecast(periodosPred),index=ind_P)\n",
    "    elif mejorMetodo== 'ES_ajTend':\n",
    "        model = ExponentialSmoothing(group['VAL'],trend='add', seasonal=None, damped=True)\n",
    "        model= model.fit()\n",
    "        forecast=pd.DataFrame(model.forecast(periodosPred),index=ind_P)    \n",
    "    \n",
    "    forecast.columns = ['pred'] \n",
    "    forecast['EVENTO']=g\n",
    "    forecast['Metodo']=mejorMetodo\n",
    "\n",
    "    if i==0:\n",
    "        finalPrediccionesFuturas=forecast\n",
    "    else:\n",
    "        finalPrediccionesFuturas=finalPrediccionesFuturas.append(forecast) \n",
    "    i=i+1\n",
    "        "
   ]
  },
  {
   "cell_type": "code",
   "execution_count": 193,
   "id": "037ac24d-a3c0-4c8f-8309-1c6cab6634de",
   "metadata": {},
   "outputs": [],
   "source": [
    "#Reemplazar positivos por cero\n",
    "finalPrediccionesFuturas['pred']=np.where(finalPrediccionesFuturas['pred']>0,0,finalPrediccionesFuturas['pred'])"
   ]
  },
  {
   "cell_type": "markdown",
   "id": "5c575812-c0d9-4ae0-ac32-d39cb6d34feb",
   "metadata": {},
   "source": [
    "*  Velocidad de procesamiento 650 por minuto"
   ]
  },
  {
   "cell_type": "code",
   "execution_count": 194,
   "id": "21cbe21b",
   "metadata": {},
   "outputs": [
    {
     "data": {
      "text/html": [
       "<div>\n",
       "<style scoped>\n",
       "    .dataframe tbody tr th:only-of-type {\n",
       "        vertical-align: middle;\n",
       "    }\n",
       "\n",
       "    .dataframe tbody tr th {\n",
       "        vertical-align: top;\n",
       "    }\n",
       "\n",
       "    .dataframe thead th {\n",
       "        text-align: right;\n",
       "    }\n",
       "</style>\n",
       "<table border=\"1\" class=\"dataframe\">\n",
       "  <thead>\n",
       "    <tr style=\"text-align: right;\">\n",
       "      <th></th>\n",
       "      <th>pred</th>\n",
       "      <th>EVENTO</th>\n",
       "      <th>Metodo</th>\n",
       "    </tr>\n",
       "    <tr>\n",
       "      <th>FECHA</th>\n",
       "      <th></th>\n",
       "      <th></th>\n",
       "      <th></th>\n",
       "    </tr>\n",
       "  </thead>\n",
       "  <tbody>\n",
       "    <tr>\n",
       "      <th>2021-10-19</th>\n",
       "      <td>0.000</td>\n",
       "      <td>VAL_EVENTOS_PLANTA_ELECTRICA_ENCENDIDA</td>\n",
       "      <td>HOLT</td>\n",
       "    </tr>\n",
       "    <tr>\n",
       "      <th>2021-10-23</th>\n",
       "      <td>-0.004</td>\n",
       "      <td>VAL_EVENTOS_PLANTA_ELECTRICA_ENCENDIDA</td>\n",
       "      <td>HOLT</td>\n",
       "    </tr>\n",
       "    <tr>\n",
       "      <th>2021-10-21</th>\n",
       "      <td>0.000</td>\n",
       "      <td>VAL_EVENTOS_PLANTA_ELECTRICA_ENCENDIDA</td>\n",
       "      <td>HOLT</td>\n",
       "    </tr>\n",
       "    <tr>\n",
       "      <th>2021-10-24</th>\n",
       "      <td>-1.241</td>\n",
       "      <td>VAL_EVENTOS_FALLA_MODULO_RECTIFICADOR</td>\n",
       "      <td>ES_ajTend</td>\n",
       "    </tr>\n",
       "    <tr>\n",
       "      <th>2021-10-25</th>\n",
       "      <td>-0.609</td>\n",
       "      <td>VAL_EVENTOS_FALLA_COMPRESOR</td>\n",
       "      <td>ARIMA</td>\n",
       "    </tr>\n",
       "    <tr>\n",
       "      <th>2021-10-24</th>\n",
       "      <td>-0.023</td>\n",
       "      <td>VAL_EVENTOS_PLANTA_ELECTRICA_ENCENDIDA</td>\n",
       "      <td>HOLT</td>\n",
       "    </tr>\n",
       "    <tr>\n",
       "      <th>2021-10-23</th>\n",
       "      <td>0.000</td>\n",
       "      <td>VAL_EVENTOS_BAJA_PRESION</td>\n",
       "      <td>ARIMA</td>\n",
       "    </tr>\n",
       "    <tr>\n",
       "      <th>2021-10-18</th>\n",
       "      <td>0.000</td>\n",
       "      <td>VAL_EVENTOS_FALLA_ENERGIA_COMERCIAL</td>\n",
       "      <td>HOLT</td>\n",
       "    </tr>\n",
       "    <tr>\n",
       "      <th>2021-10-19</th>\n",
       "      <td>0.000</td>\n",
       "      <td>VAL_EVENTOS_FALLA_ENERGIA_COMERCIAL</td>\n",
       "      <td>HOLT</td>\n",
       "    </tr>\n",
       "    <tr>\n",
       "      <th>2021-10-21</th>\n",
       "      <td>0.000</td>\n",
       "      <td>VAL_EVENTOS_BAJA_PRESION</td>\n",
       "      <td>ARIMA</td>\n",
       "    </tr>\n",
       "  </tbody>\n",
       "</table>\n",
       "</div>"
      ],
      "text/plain": [
       "             pred                                  EVENTO     Metodo\n",
       "FECHA                                                               \n",
       "2021-10-19  0.000  VAL_EVENTOS_PLANTA_ELECTRICA_ENCENDIDA       HOLT\n",
       "2021-10-23 -0.004  VAL_EVENTOS_PLANTA_ELECTRICA_ENCENDIDA       HOLT\n",
       "2021-10-21  0.000  VAL_EVENTOS_PLANTA_ELECTRICA_ENCENDIDA       HOLT\n",
       "2021-10-24 -1.241   VAL_EVENTOS_FALLA_MODULO_RECTIFICADOR  ES_ajTend\n",
       "2021-10-25 -0.609             VAL_EVENTOS_FALLA_COMPRESOR      ARIMA\n",
       "2021-10-24 -0.023  VAL_EVENTOS_PLANTA_ELECTRICA_ENCENDIDA       HOLT\n",
       "2021-10-23  0.000                VAL_EVENTOS_BAJA_PRESION      ARIMA\n",
       "2021-10-18  0.000     VAL_EVENTOS_FALLA_ENERGIA_COMERCIAL       HOLT\n",
       "2021-10-19  0.000     VAL_EVENTOS_FALLA_ENERGIA_COMERCIAL       HOLT\n",
       "2021-10-21  0.000                VAL_EVENTOS_BAJA_PRESION      ARIMA"
      ]
     },
     "execution_count": 194,
     "metadata": {},
     "output_type": "execute_result"
    }
   ],
   "source": [
    "finalPrediccionesFuturas.sample(10)"
   ]
  },
  {
   "cell_type": "code",
   "execution_count": 195,
   "id": "38bf49c4-c575-4a05-86f4-aa04649fdb55",
   "metadata": {},
   "outputs": [
    {
     "ename": "NameError",
     "evalue": "name 'maestroNodo' is not defined",
     "output_type": "error",
     "traceback": [
      "\u001b[1;31m---------------------------------------------------------------------------\u001b[0m",
      "\u001b[1;31mNameError\u001b[0m                                 Traceback (most recent call last)",
      "\u001b[1;32m<ipython-input-195-4b7c96f6488f>\u001b[0m in \u001b[0;36m<module>\u001b[1;34m\u001b[0m\n\u001b[1;32m----> 1\u001b[1;33m \u001b[0mresultadoFinal\u001b[0m\u001b[1;33m=\u001b[0m\u001b[0mfinalPrediccionesFuturas\u001b[0m\u001b[1;33m.\u001b[0m\u001b[0mreset_index\u001b[0m\u001b[1;33m(\u001b[0m\u001b[1;33m)\u001b[0m\u001b[1;33m.\u001b[0m\u001b[0mmerge\u001b[0m\u001b[1;33m(\u001b[0m\u001b[0mmaestroNodo\u001b[0m\u001b[1;33m,\u001b[0m\u001b[0mleft_on\u001b[0m\u001b[1;33m=\u001b[0m\u001b[1;34m'Nodo'\u001b[0m\u001b[1;33m,\u001b[0m\u001b[0mright_on\u001b[0m\u001b[1;33m=\u001b[0m\u001b[1;34m'Nodo'\u001b[0m\u001b[1;33m,\u001b[0m\u001b[0mhow\u001b[0m\u001b[1;33m=\u001b[0m\u001b[1;34m'left'\u001b[0m\u001b[1;33m)\u001b[0m\u001b[1;33m\u001b[0m\u001b[1;33m\u001b[0m\u001b[0m\n\u001b[0m\u001b[0;32m      2\u001b[0m \u001b[0mresultadoFinal\u001b[0m\u001b[1;33m.\u001b[0m\u001b[0mhead\u001b[0m\u001b[1;33m(\u001b[0m\u001b[1;36m5\u001b[0m\u001b[1;33m)\u001b[0m\u001b[1;33m\u001b[0m\u001b[1;33m\u001b[0m\u001b[0m\n",
      "\u001b[1;31mNameError\u001b[0m: name 'maestroNodo' is not defined"
     ]
    }
   ],
   "source": [
    "resultadoFinal=finalPrediccionesFuturas.reset_index().merge(maestroNodo,left_on='Nodo',right_on='Nodo',how='left')\n",
    "resultadoFinal.head(5)"
   ]
  },
  {
   "cell_type": "code",
   "execution_count": 196,
   "id": "66947d87-6f1a-4f15-8933-3761bbab7bce",
   "metadata": {},
   "outputs": [
    {
     "ename": "NameError",
     "evalue": "name 'resultadoFinal' is not defined",
     "output_type": "error",
     "traceback": [
      "\u001b[1;31m---------------------------------------------------------------------------\u001b[0m",
      "\u001b[1;31mNameError\u001b[0m                                 Traceback (most recent call last)",
      "\u001b[1;32m<ipython-input-196-90060e315f50>\u001b[0m in \u001b[0;36m<module>\u001b[1;34m\u001b[0m\n\u001b[1;32m----> 1\u001b[1;33m \u001b[0mresultadoFinal\u001b[0m\u001b[1;33m.\u001b[0m\u001b[0mto_csv\u001b[0m\u001b[1;33m(\u001b[0m\u001b[1;34m'resultadoPrediciones.csv'\u001b[0m\u001b[1;33m)\u001b[0m\u001b[1;33m\u001b[0m\u001b[1;33m\u001b[0m\u001b[0m\n\u001b[0m",
      "\u001b[1;31mNameError\u001b[0m: name 'resultadoFinal' is not defined"
     ]
    }
   ],
   "source": [
    "resultadoFinal.to_csv('resultadoPrediciones.csv')"
   ]
  },
  {
   "cell_type": "markdown",
   "id": "266e069b",
   "metadata": {},
   "source": [
    "## Visualizar Resultado Nodo"
   ]
  },
  {
   "cell_type": "code",
   "execution_count": 197,
   "id": "fd9c558a",
   "metadata": {},
   "outputs": [],
   "source": [
    "def visualNodo(nodo):\n",
    "    print(finalErrores[nodo])\n",
    "    dfNodo_real=dfTotalesCom[dfTotalesCom['EVENTO']==nodo][['VAL']]\n",
    "    dfNodo=final[final['EVENTO']==nodo]\n",
    "    dfNodo= pd.pivot_table(dfNodo.reset_index(), index='FECHA', columns='Metodo', values='pred')    \n",
    "    dfNodo_real=dfNodo_real.merge(dfNodo,left_index=True, right_index=True, how='left')\n",
    "    dfPrediciciones=finalPrediccionesFuturas[finalPrediccionesFuturas['EVENTO']==nodo]\n",
    "    metodoSel=dfPrediciciones['Metodo'].unique()[0]\n",
    "    dfPrediciciones.rename(columns={'pred':'pred_'+metodoSel},inplace=True)   \n",
    "    dfNodo_real.merge(dfPrediciciones[['pred_'+metodoSel]],left_index=True, right_index=True,how='outer').plot()"
   ]
  },
  {
   "cell_type": "code",
   "execution_count": 199,
   "id": "e938e322",
   "metadata": {},
   "outputs": [
    {
     "name": "stdout",
     "output_type": "stream",
     "text": [
      "{'ARIMA': 0.33166247903554, 'ES': 0.33384263203367054, 'HOLT': 0.37903065785254325, 'ES_ajTend': 0.37573640180812906}\n",
      "{'ARIMA': 0.03656116555171227, 'ES': 0.34549811510921097, 'HOLT': 0.6883043009677494, 'ES_ajTend': 0.03878140451148291}\n",
      "{'ARIMA': 17.440024209972997, 'ES': 16.853222624618724, 'HOLT': 13.962224439732832, 'ES_ajTend': 14.1200784408942}\n",
      "{'ARIMA': 2.666666666666666, 'ES': 2.18309321252447, 'HOLT': 0.33061470772806645, 'ES_ajTend': 0.3175343456983414}\n",
      "{'ARIMA': 0.5999999999999999, 'ES': 0.5658590368701495, 'HOLT': 0.4568911089474827, 'ES_ajTend': 0.4687976823978161}\n"
     ]
    },
    {
     "data": {
      "image/png": "[encoded data removed]",
      "text/plain": [
       "<Figure size 432x288 with 1 Axes>"
      ]
     },
     "metadata": {
      "needs_background": "light"
     },
     "output_type": "display_data"
    },
    {
     "data": {
      "image/png": "[encoded data removed]",
      "text/plain": [
       "<Figure size 432x288 with 1 Axes>"
      ]
     },
     "metadata": {
      "needs_background": "light"
     },
     "output_type": "display_data"
    },
    {
     "data": {
      "image/png": "[encoded data removed]",
      "text/plain": [
       "<Figure size 432x288 with 1 Axes>"
      ]
     },
     "metadata": {
      "needs_background": "light"
     },
     "output_type": "display_data"
    },
    {
     "data": {
      "image/png": "[encoded data removed]",
      "text/plain": [
       "<Figure size 432x288 with 1 Axes>"
      ]
     },
     "metadata": {
      "needs_background": "light"
     },
     "output_type": "display_data"
    },
    {
     "data": {
      "image/png": "[encoded data removed]",
      "text/plain": [
       "<Figure size 432x288 with 1 Axes>"
      ]
     },
     "metadata": {
      "needs_background": "light"
     },
     "output_type": "display_data"
    }
   ],
   "source": [
    "for evento in listEventos:\n",
    "    visualNodo(evento)"
   ]
  },
  {
   "cell_type": "code",
   "execution_count": 198,
   "id": "6b60286a",
   "metadata": {},
   "outputs": [
    {
     "name": "stdout",
     "output_type": "stream",
     "text": [
      "{'ARIMA': 0.33166247903554, 'ES': 0.33384263203367054, 'HOLT': 0.37903065785254325, 'ES_ajTend': 0.37573640180812906}\n"
     ]
    },
    {
     "data": {
      "image/png": "[encoded data removed]",
      "text/plain": [
       "<Figure size 432x288 with 1 Axes>"
      ]
     },
     "metadata": {
      "needs_background": "light"
     },
     "output_type": "display_data"
    }
   ],
   "source": [
    "visualNodo('VAL_EVENTOS_BAJA_PRESION')"
   ]
  },
  {
   "cell_type": "markdown",
   "id": "950088c0-97e4-4978-8d88-69724d9b9081",
   "metadata": {},
   "source": [
    "## Descripción del Resultado"
   ]
  },
  {
   "cell_type": "code",
   "execution_count": null,
   "id": "9a792bf8-0d51-40cd-bd7e-c8279212b0ab",
   "metadata": {},
   "outputs": [],
   "source": [
    "finalPrediccionesFuturas['Metodo'].value_counts()/3"
   ]
  },
  {
   "cell_type": "code",
   "execution_count": null,
   "id": "ce31cc2a-4625-40a8-8c8b-ebdd2b629539",
   "metadata": {},
   "outputs": [],
   "source": [
    "pieChart(finalPrediccionesFuturas['Metodo'])"
   ]
  },
  {
   "cell_type": "code",
   "execution_count": null,
   "id": "3f160d8f-e3d2-4593-8ff5-abe657a0ccd6",
   "metadata": {},
   "outputs": [],
   "source": [
    "dfFinalErrores['errorMin'].hist()"
   ]
  },
  {
   "cell_type": "code",
   "execution_count": null,
   "id": "a061285e-b393-445e-88ae-f5971ca62c7c",
   "metadata": {},
   "outputs": [],
   "source": [
    "maxBin=dfFinalErrores['errorMin'].max()\n",
    "bins=[0,1,2,5,10,20,maxBin]"
   ]
  },
  {
   "cell_type": "code",
   "execution_count": null,
   "id": "68e78917-9450-4162-a36a-958fa3c1e843",
   "metadata": {},
   "outputs": [],
   "source": [
    "dfFinalErrores['binError']=pd.cut((dfFinalErrores['errorMin']),bins=np.sort(bins),right=True)"
   ]
  },
  {
   "cell_type": "code",
   "execution_count": null,
   "id": "3ed92444-4fdd-4fc4-9a13-b3d847346739",
   "metadata": {},
   "outputs": [],
   "source": [
    "dfFinalErrores.head(10)"
   ]
  },
  {
   "cell_type": "code",
   "execution_count": null,
   "id": "9ab97d81-28ac-4063-ab3b-415892110745",
   "metadata": {},
   "outputs": [],
   "source": [
    "dfFinalErrores['binError'].value_counts()"
   ]
  },
  {
   "cell_type": "code",
   "execution_count": null,
   "id": "55c5f090-cd25-468e-800d-c6f2453b22c3",
   "metadata": {},
   "outputs": [],
   "source": [
    "dfFinalErrores[['binError']].value_counts().sort_index(ascending=False).plot.barh()"
   ]
  },
  {
   "cell_type": "markdown",
   "id": "893049ed-9373-40e5-87d9-c1afbabec351",
   "metadata": {},
   "source": [
    "#### Analisis preducciones futuras"
   ]
  },
  {
   "cell_type": "code",
   "execution_count": null,
   "id": "e8600c12-53b6-4317-837b-dfc910b1595d",
   "metadata": {},
   "outputs": [],
   "source": [
    "finalPrediccionesFuturas['pred'].hist()"
   ]
  },
  {
   "cell_type": "code",
   "execution_count": null,
   "id": "ae759b93-6767-4b2e-921d-275243a04851",
   "metadata": {},
   "outputs": [],
   "source": [
    "finalPrediccionesFuturas['pred'].describe()"
   ]
  },
  {
   "cell_type": "code",
   "execution_count": null,
   "id": "79da4fe3-e162-44c1-965f-dd4b72cada90",
   "metadata": {},
   "outputs": [],
   "source": [
    "sns.violinplot(x=finalPrediccionesFuturas['pred']);"
   ]
  },
  {
   "cell_type": "code",
   "execution_count": null,
   "id": "b4d14aab-9092-41cf-ba56-662cc167fb4b",
   "metadata": {},
   "outputs": [],
   "source": [
    "minBin=finalPrediccionesFuturas['pred'].min()\n",
    "bins=[minBin,-50,-30,-20,-10,-5,0,15]\n",
    "finalPrediccionesFuturas['binPred']=pd.cut((finalPrediccionesFuturas['pred']),bins=np.sort(bins),right=True)\n",
    "#finalPrediccionesFuturas['binPred']=pd.cut((finalPrediccionesFuturas['pred']),bins=5,right=True)"
   ]
  },
  {
   "cell_type": "code",
   "execution_count": null,
   "id": "cdea3a2a-854d-45b0-9fd2-6eadb611c911",
   "metadata": {},
   "outputs": [],
   "source": [
    "finalPrediccionesFuturas['binPred'].value_counts()"
   ]
  },
  {
   "cell_type": "code",
   "execution_count": null,
   "id": "d645e895-8100-44fc-894c-2f91b028539c",
   "metadata": {},
   "outputs": [],
   "source": [
    "pieChart(finalPrediccionesFuturas['binPred'])"
   ]
  },
  {
   "cell_type": "code",
   "execution_count": null,
   "id": "e2cbda92-dbb9-4fb9-bf6a-534ed395852a",
   "metadata": {},
   "outputs": [],
   "source": [
    "dfGraf=finalPrediccionesFuturas.reset_index()[['FECHA','pred','Nodo']]"
   ]
  },
  {
   "cell_type": "code",
   "execution_count": null,
   "id": "ccd7b9bf-0659-4d72-948f-90789fdc7b09",
   "metadata": {},
   "outputs": [],
   "source": [
    "dfGraf['FECHA']=dfGraf['FECHA'].astype(str)\n",
    "dfGraf.head(10)"
   ]
  },
  {
   "cell_type": "code",
   "execution_count": null,
   "id": "56930ba5-c1fc-40df-ba97-075d761821d1",
   "metadata": {},
   "outputs": [],
   "source": [
    "sns.violinplot(x='FECHA', y='pred', data=dfGraf, inner=\"quart\", linewidth=1)"
   ]
  },
  {
   "cell_type": "code",
   "execution_count": null,
   "id": "05db281c-8b62-4234-9e1c-d6c45835cc47",
   "metadata": {},
   "outputs": [],
   "source": [
    "dfGraf=pd.pivot_table(dfGraf,index='Nodo',columns='FECHA',values='pred',aggfunc=np.sum)"
   ]
  },
  {
   "cell_type": "code",
   "execution_count": null,
   "id": "55449bed-31fe-49c1-be1e-174fcfb7ca31",
   "metadata": {},
   "outputs": [],
   "source": [
    "dfGraf.describe().T"
   ]
  },
  {
   "cell_type": "markdown",
   "id": "c47ebc05-ac2a-41e0-8113-994429d8ddf8",
   "metadata": {},
   "source": [
    "### Resumen por nodo"
   ]
  },
  {
   "cell_type": "code",
   "execution_count": null,
   "id": "ecfafa8f-b422-43c5-951e-4b3f7f353971",
   "metadata": {},
   "outputs": [],
   "source": [
    "ResPred=finalPrediccionesFuturas.groupby('Nodo').sum()"
   ]
  },
  {
   "cell_type": "code",
   "execution_count": null,
   "id": "d4f696d5-6049-441f-b124-bbfe51dcf1b6",
   "metadata": {},
   "outputs": [],
   "source": [
    "minBin=ResPred['pred'].min()\n",
    "bins=[minBin-1,-150,-100,-50,-20,0,50]\n",
    "ResPred['binPred']=pd.cut((ResPred['pred']),bins=np.sort(bins),right=True)\n",
    "#ResPred['binPred']=pd.cut((ResPred['pred']),bins=5,right=True)"
   ]
  },
  {
   "cell_type": "code",
   "execution_count": null,
   "id": "3e28d988-b212-42bf-9fa8-ac19ee14dead",
   "metadata": {},
   "outputs": [],
   "source": [
    "ResPred['binPred'].value_counts()"
   ]
  },
  {
   "cell_type": "code",
   "execution_count": null,
   "id": "c00d2855-c452-4f80-90f1-45d31a947764",
   "metadata": {},
   "outputs": [],
   "source": [
    "pieChart(ResPred['binPred'])"
   ]
  },
  {
   "cell_type": "code",
   "execution_count": null,
   "id": "ec68fd9e-441b-4294-a647-b7e422c8a060",
   "metadata": {},
   "outputs": [],
   "source": [
    "ResPred.head(2)"
   ]
  },
  {
   "cell_type": "markdown",
   "id": "bc255f1a-4200-43c0-95f5-bb8c637cc103",
   "metadata": {},
   "source": [
    "#### Predicciones por distrito"
   ]
  },
  {
   "cell_type": "code",
   "execution_count": null,
   "id": "22412fa7-27be-46bf-9e0d-246a14949d50",
   "metadata": {},
   "outputs": [],
   "source": [
    "pt=ResPred.merge(maestroNodo,left_index=True,right_on='Nodo',how='left')\n",
    "pt.head()"
   ]
  },
  {
   "cell_type": "code",
   "execution_count": null,
   "id": "8fe50812-c973-48cc-9cf0-036d91aac3d8",
   "metadata": {},
   "outputs": [],
   "source": [
    "pt=pd.pivot_table(pt,columns='binPred',index='E_distrito', fill_value=0)"
   ]
  },
  {
   "cell_type": "code",
   "execution_count": null,
   "id": "b036fd7c-9fef-4a06-8582-b9f89c38feae",
   "metadata": {},
   "outputs": [],
   "source": [
    "pt"
   ]
  },
  {
   "cell_type": "code",
   "execution_count": null,
   "id": "c4a1232c-d145-4554-915e-e727f73579fa",
   "metadata": {},
   "outputs": [],
   "source": [
    "pt.sum(axis=1).sort_values()"
   ]
  },
  {
   "cell_type": "markdown",
   "id": "3bfe9cb9-32b8-49eb-bec8-086af4aebc24",
   "metadata": {},
   "source": [
    "##  Revisión casos atípicos\n",
    "* Mayores errores en los metodos"
   ]
  },
  {
   "cell_type": "code",
   "execution_count": null,
   "id": "61ade81c-e79c-408a-9934-efc6b912a29c",
   "metadata": {},
   "outputs": [],
   "source": [
    "dfFinalErrores[dfFinalErrores['errorMin']>=20]"
   ]
  },
  {
   "cell_type": "code",
   "execution_count": null,
   "id": "b7b38329-362d-4368-8b16-5414a96c9bff",
   "metadata": {
    "tags": []
   },
   "outputs": [],
   "source": [
    "for key, row in dfFinalErrores[dfFinalErrores['errorMin']>=20].iterrows():\n",
    "    print(key)\n",
    "    visualNodo(key)"
   ]
  },
  {
   "cell_type": "markdown",
   "id": "d5f8f4ed-ace1-4067-9e42-c4132148027d",
   "metadata": {},
   "source": [
    "* Churn más bajos"
   ]
  },
  {
   "cell_type": "code",
   "execution_count": null,
   "id": "633f6777-2a6d-4051-984a-e68aa302b16e",
   "metadata": {},
   "outputs": [],
   "source": [
    "finalPrediccionesFuturas[finalPrediccionesFuturas['pred']<=-50]"
   ]
  },
  {
   "cell_type": "code",
   "execution_count": null,
   "id": "2ad76fc4-6e77-4223-ba1c-fd0d0bbdcf18",
   "metadata": {},
   "outputs": [],
   "source": [
    "for key, row in ResPred[ResPred['pred']<=-100].iterrows():\n",
    "    print(key)\n",
    "    visualNodo(key)"
   ]
  },
  {
   "cell_type": "markdown",
   "id": "962825de",
   "metadata": {},
   "source": [
    "### Validacion"
   ]
  },
  {
   "cell_type": "code",
   "execution_count": 206,
   "id": "69e74d98",
   "metadata": {},
   "outputs": [],
   "source": [
    "atest=[3,np.nan,6]\n",
    "atest=[3]\n",
    "apred=[4, 2, 5]"
   ]
  },
  {
   "cell_type": "code",
   "execution_count": 207,
   "id": "221207c2",
   "metadata": {},
   "outputs": [
    {
     "data": {
      "text/plain": [
       "[3]"
      ]
     },
     "execution_count": 207,
     "metadata": {},
     "output_type": "execute_result"
    }
   ],
   "source": [
    "atest"
   ]
  },
  {
   "cell_type": "code",
   "execution_count": 208,
   "id": "49956913",
   "metadata": {},
   "outputs": [
    {
     "ename": "ValueError",
     "evalue": "Found input variables with inconsistent numbers of samples: [1, 3]",
     "output_type": "error",
     "traceback": [
      "\u001b[1;31m---------------------------------------------------------------------------\u001b[0m",
      "\u001b[1;31mValueError\u001b[0m                                Traceback (most recent call last)",
      "\u001b[1;32m<ipython-input-208-7c669edd682b>\u001b[0m in \u001b[0;36m<module>\u001b[1;34m\u001b[0m\n\u001b[1;32m----> 1\u001b[1;33m \u001b[0mRMSE\u001b[0m\u001b[1;33m=\u001b[0m\u001b[0mmean_squared_error\u001b[0m\u001b[1;33m(\u001b[0m\u001b[0matest\u001b[0m\u001b[1;33m,\u001b[0m\u001b[0mapred\u001b[0m\u001b[1;33m,\u001b[0m \u001b[0msquared\u001b[0m\u001b[1;33m=\u001b[0m\u001b[1;32mFalse\u001b[0m\u001b[1;33m)\u001b[0m\u001b[1;33m\u001b[0m\u001b[1;33m\u001b[0m\u001b[0m\n\u001b[0m\u001b[0;32m      2\u001b[0m \u001b[0mMAPE\u001b[0m\u001b[1;33m=\u001b[0m\u001b[0mmean_absolute_percentage_error\u001b[0m\u001b[1;33m(\u001b[0m\u001b[0matest\u001b[0m\u001b[1;33m,\u001b[0m\u001b[0mapred\u001b[0m\u001b[1;33m)\u001b[0m\u001b[1;33m\u001b[0m\u001b[1;33m\u001b[0m\u001b[0m\n",
      "\u001b[1;32mC:\\ProgramData\\Anaconda3\\envs\\ds_sqdm_claro\\lib\\site-packages\\sklearn\\utils\\validation.py\u001b[0m in \u001b[0;36minner_f\u001b[1;34m(*args, **kwargs)\u001b[0m\n\u001b[0;32m     61\u001b[0m             \u001b[0mextra_args\u001b[0m \u001b[1;33m=\u001b[0m \u001b[0mlen\u001b[0m\u001b[1;33m(\u001b[0m\u001b[0margs\u001b[0m\u001b[1;33m)\u001b[0m \u001b[1;33m-\u001b[0m \u001b[0mlen\u001b[0m\u001b[1;33m(\u001b[0m\u001b[0mall_args\u001b[0m\u001b[1;33m)\u001b[0m\u001b[1;33m\u001b[0m\u001b[1;33m\u001b[0m\u001b[0m\n\u001b[0;32m     62\u001b[0m             \u001b[1;32mif\u001b[0m \u001b[0mextra_args\u001b[0m \u001b[1;33m<=\u001b[0m \u001b[1;36m0\u001b[0m\u001b[1;33m:\u001b[0m\u001b[1;33m\u001b[0m\u001b[1;33m\u001b[0m\u001b[0m\n\u001b[1;32m---> 63\u001b[1;33m                 \u001b[1;32mreturn\u001b[0m \u001b[0mf\u001b[0m\u001b[1;33m(\u001b[0m\u001b[1;33m*\u001b[0m\u001b[0margs\u001b[0m\u001b[1;33m,\u001b[0m \u001b[1;33m**\u001b[0m\u001b[0mkwargs\u001b[0m\u001b[1;33m)\u001b[0m\u001b[1;33m\u001b[0m\u001b[1;33m\u001b[0m\u001b[0m\n\u001b[0m\u001b[0;32m     64\u001b[0m \u001b[1;33m\u001b[0m\u001b[0m\n\u001b[0;32m     65\u001b[0m             \u001b[1;31m# extra_args > 0\u001b[0m\u001b[1;33m\u001b[0m\u001b[1;33m\u001b[0m\u001b[1;33m\u001b[0m\u001b[0m\n",
      "\u001b[1;32mC:\\ProgramData\\Anaconda3\\envs\\ds_sqdm_claro\\lib\\site-packages\\sklearn\\metrics\\_regression.py\u001b[0m in \u001b[0;36mmean_squared_error\u001b[1;34m(y_true, y_pred, sample_weight, multioutput, squared)\u001b[0m\n\u001b[0;32m    333\u001b[0m     \u001b[1;36m0.825\u001b[0m\u001b[1;33m...\u001b[0m\u001b[1;33m\u001b[0m\u001b[1;33m\u001b[0m\u001b[0m\n\u001b[0;32m    334\u001b[0m     \"\"\"\n\u001b[1;32m--> 335\u001b[1;33m     y_type, y_true, y_pred, multioutput = _check_reg_targets(\n\u001b[0m\u001b[0;32m    336\u001b[0m         y_true, y_pred, multioutput)\n\u001b[0;32m    337\u001b[0m     \u001b[0mcheck_consistent_length\u001b[0m\u001b[1;33m(\u001b[0m\u001b[0my_true\u001b[0m\u001b[1;33m,\u001b[0m \u001b[0my_pred\u001b[0m\u001b[1;33m,\u001b[0m \u001b[0msample_weight\u001b[0m\u001b[1;33m)\u001b[0m\u001b[1;33m\u001b[0m\u001b[1;33m\u001b[0m\u001b[0m\n",
      "\u001b[1;32mC:\\ProgramData\\Anaconda3\\envs\\ds_sqdm_claro\\lib\\site-packages\\sklearn\\metrics\\_regression.py\u001b[0m in \u001b[0;36m_check_reg_targets\u001b[1;34m(y_true, y_pred, multioutput, dtype)\u001b[0m\n\u001b[0;32m     86\u001b[0m         \u001b[0mthe\u001b[0m \u001b[0mdtype\u001b[0m \u001b[0margument\u001b[0m \u001b[0mpassed\u001b[0m \u001b[0mto\u001b[0m \u001b[0mcheck_array\u001b[0m\u001b[1;33m.\u001b[0m\u001b[1;33m\u001b[0m\u001b[1;33m\u001b[0m\u001b[0m\n\u001b[0;32m     87\u001b[0m     \"\"\"\n\u001b[1;32m---> 88\u001b[1;33m     \u001b[0mcheck_consistent_length\u001b[0m\u001b[1;33m(\u001b[0m\u001b[0my_true\u001b[0m\u001b[1;33m,\u001b[0m \u001b[0my_pred\u001b[0m\u001b[1;33m)\u001b[0m\u001b[1;33m\u001b[0m\u001b[1;33m\u001b[0m\u001b[0m\n\u001b[0m\u001b[0;32m     89\u001b[0m     \u001b[0my_true\u001b[0m \u001b[1;33m=\u001b[0m \u001b[0mcheck_array\u001b[0m\u001b[1;33m(\u001b[0m\u001b[0my_true\u001b[0m\u001b[1;33m,\u001b[0m \u001b[0mensure_2d\u001b[0m\u001b[1;33m=\u001b[0m\u001b[1;32mFalse\u001b[0m\u001b[1;33m,\u001b[0m \u001b[0mdtype\u001b[0m\u001b[1;33m=\u001b[0m\u001b[0mdtype\u001b[0m\u001b[1;33m)\u001b[0m\u001b[1;33m\u001b[0m\u001b[1;33m\u001b[0m\u001b[0m\n\u001b[0;32m     90\u001b[0m     \u001b[0my_pred\u001b[0m \u001b[1;33m=\u001b[0m \u001b[0mcheck_array\u001b[0m\u001b[1;33m(\u001b[0m\u001b[0my_pred\u001b[0m\u001b[1;33m,\u001b[0m \u001b[0mensure_2d\u001b[0m\u001b[1;33m=\u001b[0m\u001b[1;32mFalse\u001b[0m\u001b[1;33m,\u001b[0m \u001b[0mdtype\u001b[0m\u001b[1;33m=\u001b[0m\u001b[0mdtype\u001b[0m\u001b[1;33m)\u001b[0m\u001b[1;33m\u001b[0m\u001b[1;33m\u001b[0m\u001b[0m\n",
      "\u001b[1;32mC:\\ProgramData\\Anaconda3\\envs\\ds_sqdm_claro\\lib\\site-packages\\sklearn\\utils\\validation.py\u001b[0m in \u001b[0;36mcheck_consistent_length\u001b[1;34m(*arrays)\u001b[0m\n\u001b[0;32m    317\u001b[0m     \u001b[0muniques\u001b[0m \u001b[1;33m=\u001b[0m \u001b[0mnp\u001b[0m\u001b[1;33m.\u001b[0m\u001b[0munique\u001b[0m\u001b[1;33m(\u001b[0m\u001b[0mlengths\u001b[0m\u001b[1;33m)\u001b[0m\u001b[1;33m\u001b[0m\u001b[1;33m\u001b[0m\u001b[0m\n\u001b[0;32m    318\u001b[0m     \u001b[1;32mif\u001b[0m \u001b[0mlen\u001b[0m\u001b[1;33m(\u001b[0m\u001b[0muniques\u001b[0m\u001b[1;33m)\u001b[0m \u001b[1;33m>\u001b[0m \u001b[1;36m1\u001b[0m\u001b[1;33m:\u001b[0m\u001b[1;33m\u001b[0m\u001b[1;33m\u001b[0m\u001b[0m\n\u001b[1;32m--> 319\u001b[1;33m         raise ValueError(\"Found input variables with inconsistent numbers of\"\n\u001b[0m\u001b[0;32m    320\u001b[0m                          \" samples: %r\" % [int(l) for l in lengths])\n\u001b[0;32m    321\u001b[0m \u001b[1;33m\u001b[0m\u001b[0m\n",
      "\u001b[1;31mValueError\u001b[0m: Found input variables with inconsistent numbers of samples: [1, 3]"
     ]
    }
   ],
   "source": [
    "RMSE=mean_squared_error(atest,apred, squared=False)\n",
    "MAPE=mean_absolute_percentage_error(atest,apred)"
   ]
  },
  {
   "cell_type": "code",
   "execution_count": null,
   "id": "3a0ed1f7",
   "metadata": {},
   "outputs": [],
   "source": []
  }
 ],
 "metadata": {
  "kernelspec": {
   "display_name": "Python 3",
   "language": "python",
   "name": "python3"
  },
  "language_info": {
   "codemirror_mode": {
    "name": "ipython",
    "version": 3
   },
   "file_extension": ".py",
   "mimetype": "text/x-python",
   "name": "python",
   "nbconvert_exporter": "python",
   "pygments_lexer": "ipython3",
   "version": "3.9.0"
  }
 },
 "nbformat": 4,
 "nbformat_minor": 5
}
